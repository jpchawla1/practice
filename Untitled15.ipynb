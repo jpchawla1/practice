{
 "cells": [
  {
   "cell_type": "code",
   "execution_count": 4,
   "metadata": {},
   "outputs": [],
   "source": [
    "import re"
   ]
  },
  {
   "cell_type": "code",
   "execution_count": 6,
   "metadata": {},
   "outputs": [
    {
     "data": {
      "text/plain": [
       "<re.Match object; span=(0, 3), match='app'>"
      ]
     },
     "execution_count": 6,
     "metadata": {},
     "output_type": "execute_result"
    }
   ],
   "source": [
    "re.match('app', 'apple')"
   ]
  },
  {
   "cell_type": "code",
   "execution_count": 52,
   "metadata": {},
   "outputs": [
    {
     "data": {
      "text/plain": [
       "<re.Match object; span=(0, 3), match='apz'>"
      ]
     },
     "execution_count": 52,
     "metadata": {},
     "output_type": "execute_result"
    }
   ],
   "source": [
    "re.search('ap.', 'apzle')"
   ]
  },
  {
   "cell_type": "code",
   "execution_count": 10,
   "metadata": {},
   "outputs": [
    {
     "data": {
      "text/plain": [
       "<re.Match object; span=(0, 3), match='app'>"
      ]
     },
     "execution_count": 10,
     "metadata": {},
     "output_type": "execute_result"
    }
   ],
   "source": [
    "re.search('a.p', 'apple')"
   ]
  },
  {
   "cell_type": "code",
   "execution_count": 59,
   "metadata": {},
   "outputs": [
    {
     "data": {
      "text/plain": [
       "<re.Match object; span=(0, 7), match='zaaaaaa'>"
      ]
     },
     "execution_count": 59,
     "metadata": {},
     "output_type": "execute_result"
    }
   ],
   "source": [
    "re.search('za*', 'zaaaaaalphabet')"
   ]
  },
  {
   "cell_type": "code",
   "execution_count": 56,
   "metadata": {},
   "outputs": [],
   "source": [
    "re.search('a$', 'abhshdpdnjakspl')"
   ]
  },
  {
   "cell_type": "code",
   "execution_count": 29,
   "metadata": {},
   "outputs": [
    {
     "data": {
      "text/plain": [
       "<re.Match object; span=(0, 0), match=''>"
      ]
     },
     "execution_count": 29,
     "metadata": {},
     "output_type": "execute_result"
    }
   ],
   "source": [
    "re.search('a?','lphabet')"
   ]
  },
  {
   "cell_type": "code",
   "execution_count": 65,
   "metadata": {},
   "outputs": [
    {
     "data": {
      "text/plain": [
       "<re.Match object; span=(4, 8), match='aaaa'>"
      ]
     },
     "execution_count": 65,
     "metadata": {},
     "output_type": "execute_result"
    }
   ],
   "source": [
    "re.search('a{3,6}', 'ilpdaaaateaaagh')"
   ]
  },
  {
   "cell_type": "code",
   "execution_count": null,
   "metadata": {},
   "outputs": [],
   "source": []
  },
  {
   "cell_type": "code",
   "execution_count": 33,
   "metadata": {},
   "outputs": [
    {
     "data": {
      "text/plain": [
       "<re.Match object; span=(0, 3), match='Rs.'>"
      ]
     },
     "execution_count": 33,
     "metadata": {},
     "output_type": "execute_result"
    }
   ],
   "source": [
    "re.search('USD|Rs\\.', 'Rs.100')"
   ]
  },
  {
   "cell_type": "code",
   "execution_count": 42,
   "metadata": {},
   "outputs": [
    {
     "data": {
      "text/plain": [
       "<re.Match object; span=(0, 21), match='https://www.google.co'>"
      ]
     },
     "execution_count": 42,
     "metadata": {},
     "output_type": "execute_result"
    }
   ],
   "source": [
    "re.search('https?\\://(.+)co', 'https://www.google.co.in')"
   ]
  },
  {
   "cell_type": "code",
   "execution_count": 51,
   "metadata": {},
   "outputs": [],
   "source": [
    "#m=re.search('https?\\://(.+?)\\.(.+?)', '')\n",
    "#print(m.group(0))\n",
    "#m== none"
   ]
  },
  {
   "cell_type": "code",
   "execution_count": 44,
   "metadata": {},
   "outputs": [],
   "source": [
    "t=open('M_J_1.txt', 'r')"
   ]
  },
  {
   "cell_type": "code",
   "execution_count": 45,
   "metadata": {},
   "outputs": [],
   "source": [
    "lines=t.readlines()"
   ]
  },
  {
   "cell_type": "code",
   "execution_count": 50,
   "metadata": {},
   "outputs": [
    {
     "name": "stdout",
     "output_type": "stream",
     "text": [
      "38    MA 426/2019 in Crl.A.\n",
      "\n",
      "39    W.P.(Crl.) No. 69/2019\n",
      "\n",
      "42    W.P.(C) No. 183/2013\n",
      "\n",
      "53    SLP(Crl) No. 3225/2016\n",
      "\n",
      "44   SLP(Crl) No. 7647/2017\n",
      "\n",
      "1 C.A. No. 7227/2009BUNKERING BROKERS LIMITED THROUGH ITS\n",
      "\n",
      "21   MA 450/2019 in C.A.\n",
      "\n",
      "22   MA 494/2019 in C.A.\n",
      "\n",
      "27   SLP(C) No.\n",
      "\n",
      "42   SLP(C) No.\n",
      "\n",
      "59   SLP(C) No.\n",
      "\n",
      "18   MA 456/2019 in MA\n",
      "\n",
      "36   MA 521/2019 in SLP(C)\n",
      "\n",
      "37   Diary No. 4421-2019\n",
      "\n",
      "43   SLP(C) No. 21519/2014\n",
      "\n",
      "48 SLP(C) No. 9893/2017JAGDISH PRASAD REWAR AND ORS.\n",
      "\n",
      "49   SLP(C) No.\n",
      "\n",
      "50 SLP(C) No. 3211/2018 NATIONAL HIGHWAY AUTHORITY OF INDIA XIV\n",
      "\n",
      "51 SLP(C) No. 7585/2018MADHAV DAS FOMRA AND ORS.\n",
      "\n",
      "56 SLP(C) No. 3283/2019EVOLUTIONARY SYSTEMS PVT. LTD.\n",
      "\n",
      "57   MA 3092/2018 in\n",
      "\n",
      "23   T.P.(C) No. 480/2019\n",
      "\n",
      "24   MA 497/2019 in SLP(C)\n",
      "\n",
      "0 SLP(C) No. 17420/2017LIGNITE CORPORATION LTD(NOW KNOWN AS NLC\n",
      "\n",
      "1 SLP(C) No. 16785/2017 LIGINITE CORPORATION LTD XII\n",
      "\n",
      "2 SLP(C) No. 16763/2017LIGNITE CORPORATION LTD.(NOW KNOWN AS NLC\n",
      "\n",
      "6 SLP(C) No. 17359/2017LIGNITE CORPORATION LTD(NOW KNOWN AS NLC\n",
      "\n",
      "7 SLP(C) No. 17377/2017LIGNITE CORPORATION LTD(NOW KNOWN AS NLC\n",
      "\n",
      "8 SLP(C) No. 16664/2017LIGNITE CORPORATION LTD(NOW KNOWN AS NLC\n",
      "\n",
      "9 SLP(C) No. 16744/2017 LIGNITE CORPORATION LTD XII\n",
      "\n",
      "0 SLP(C) No. 16655/2017LIGNITE CORPORATION LTD(NOW KNOWN AS NLC\n",
      "\n",
      "1 SLP(C) No. 17068/2017 LIGNITE CORPORATION LTD XII\n",
      "\n",
      "2 SLP(C) No. 17075/2017\n",
      "\n",
      "7 SLP(C) No. 17024/2017LIGNITE CORPORATION LTD(NOW KNOWN AS NLC\n",
      "\n",
      "8 SLP(C) No. 17401/2017LIGNITE CORPORATION LTD. (NOW KNOWN AS NLC\n",
      "\n",
      "9 SLP(C) No. 17016/2017LIGNITE CORPORATION LTD.(NOW KNOWN AS NLC\n",
      "\n",
      "0 SLP(C) No. 16530/2017LIGNITE CORPORATION LTD(NOW KNOWN AS NLC\n",
      "\n",
      "1 SLP(C) No. 16628/2017LIGNITE CORPORATION LTD. (NOW KNOWN AS NLC\n",
      "\n",
      "2 SLP(C) No. 16614/2017 LIGNITE CORPORATION LTD XII\n",
      "\n",
      "3 SLP(C) No. 16531/2017 LIGNITE CORPORATION LTD XII\n",
      "\n",
      "4 SLP(C) No. 16616/2017SECRETARY CORPORATE OFFICE NEYVELI LIGNITE\n",
      "\n",
      "9 SLP(C) No. 16733/2017KNOWNN AS NLC INDIA LTD. THE SECRETARY\n",
      "\n",
      "2 SLP(C) No. 16905/2017\n",
      "\n",
      "3 SLP(C) No. 16833/2017LIGNITE CORPORATION LTD(NOW KNOWN AS NLC\n",
      "\n",
      "4 SLP(C) No. 16739/2017LIGNITE CORPORATION LTD(NOW KNOWN AS NLC\n",
      "\n",
      "5 SLP(C) No. 16759/2017LIGNITE CORPORATION LTD(NOW KNOWN AS NLC\n",
      "\n",
      "6 SLP(C) No. 16732/2017LIGNITE CORPORATION LTD(NOW KNOWN AS NLC\n",
      "\n",
      "7 SLP(C) No. 16741/2017KNOWN AS NLC INDIA LTD)\n",
      "\n",
      "8 SLP(C) No. 16734/2017LIGNITE CORPORATION LTD (NOW KNONW AS NLC\n",
      "\n",
      "9 SLP(C) No. 16742/2017LIGNITE CORPORATION LTD(NOW KNOWN AS NLC\n",
      "\n",
      "0 SLP(C) No. 16718/2017LIGNITE CORPORATION LTD(NOW KNOWN AS NLC\n",
      "\n",
      "8 SLP(C) No. 17357/2017CORPORATION LTD. (NOW KNOW AS NLC INDIA\n",
      "\n",
      "9 SLP(C) No. 17361/2017LIGNITE CORPORATION LTD (NOW KNOWN AS NLC\n",
      "\n",
      "0 SLP(C) No. 17327/2017CORPORATION LTD. (NOW KNOWN AS NLC INDIA\n",
      "\n",
      "1 SLP(C) No. 17061/2017LIGNITE CORPORATION LTD(NOW KNOWN AS NLC\n",
      "\n",
      "2 SLP(C) No. 17386/2017LIGNITE CORPORATION LTD (NOW KNOWN AS NLC\n",
      "\n",
      "3 SLP(C) No. 17302/2017LIGNITE CORPORATION LTD (NOW KNOWN AS NLC\n",
      "\n",
      "4 SLP(C) No. 17354/2017LIGNITE CORPORATION LTD (NOW KNOWN AS NLC\n",
      "\n",
      "53   SLP(C) No.\n",
      "\n",
      "7 Diary No. 2486-2019 NEW INDIA ASSURANCE COMPANY LIMITED XI\n",
      "\n",
      "8 Diary No. 3099-2019THE AGENT KALIPAHARI GROUP OF MINES\n",
      "\n",
      "16   MA 492/2019 in C.A.\n",
      "\n",
      "36   Diary No. 8091-2019\n",
      "\n",
      "37   MA 517/2019 in Crl.A.\n",
      "\n",
      "46   SLP(C) No. 8012/2013\n",
      "\n",
      "48   MA 2598/2018 in C.A.\n",
      "\n",
      "49   MA 129/2019 in SLP(C)\n",
      "\n",
      "51   SLP(C) No.\n",
      "\n",
      "13 Diary No. 4443-2019 M/S. ARSS DAMOH HIRAPUR TOLLS PVT. LTD. IV-A\n",
      "\n",
      "25   CONMT.PET.(C) No.\n",
      "\n",
      "56   SLP(C) No. 3292/2019\n",
      "\n",
      "301  SLP(C) No. 32389/2017\n",
      "\n",
      "1 Diary No. 2747-2019 XI-A\n",
      "\n",
      "2 Diary No. 2750-2019 XI-A\n",
      "\n",
      "3 Diary No. 2990-2019 XI-A\n",
      "\n",
      "4 Diary No. 2992-2019 XI-A\n",
      "\n",
      "56   SLP(C) No. 22800/2017\n",
      "\n",
      "57   W.P.(Crl.) No. 195/2011\n",
      "\n",
      "14   Diary No. 5706-2019\n",
      "\n",
      "58   SLP(C) No. 2937/2019\n",
      "\n",
      "59   SLP(C) No. 11959/2014\n",
      "\n",
      "41   MA 523/2019 in Crl.A.\n",
      "\n",
      "54   MA 1836/2018 in C.A.\n",
      "\n",
      "60   SLP(Crl) No. 6767/2016\n",
      "\n",
      "49   SLP(C) No. 26111/2015\n",
      "\n",
      "27   Diary No. 41913-2016\n",
      "\n"
     ]
    }
   ],
   "source": [
    "for l in lines:\n",
    "    m=re.search(\"^\\d{1,3} \", l)\n",
    "    if m is not None:\n",
    "        n=re,search('\\d{4} $', l)\n",
    "        if n is not None:\n",
    "            print(l)\n",
    "        else:\n",
    "            p=l"
   ]
  },
  {
   "cell_type": "code",
   "execution_count": 69,
   "metadata": {},
   "outputs": [
    {
     "ename": "SyntaxError",
     "evalue": "invalid syntax (<ipython-input-69-f8c0df426af5>, line 1)",
     "output_type": "error",
     "traceback": [
      "\u001b[1;36m  File \u001b[1;32m\"<ipython-input-69-f8c0df426af5>\"\u001b[1;36m, line \u001b[1;32m1\u001b[0m\n\u001b[1;33m    xpath=  \"\"//*[@id=\"block-system-main\"]/div/div/div/div/div/div/div[3]\"\"\u001b[0m\n\u001b[1;37m                ^\u001b[0m\n\u001b[1;31mSyntaxError\u001b[0m\u001b[1;31m:\u001b[0m invalid syntax\n"
     ]
    }
   ],
   "source": [
    "xpath=  \"\"//*[@id=\"block-system-main\"]/div/div/div/div/div/div/div[3]\"\"\n",
    "    \n",
    "    file=open('test.html', 'r', encoding=\"utf8\")\n",
    "    html=file.read()"
   ]
  },
  {
   "cell_type": "code",
   "execution_count": null,
   "metadata": {},
   "outputs": [],
   "source": []
  }
 ],
 "metadata": {
  "kernelspec": {
   "display_name": "Python 3",
   "language": "python",
   "name": "python3"
  },
  "language_info": {
   "codemirror_mode": {
    "name": "ipython",
    "version": 3
   },
   "file_extension": ".py",
   "mimetype": "text/x-python",
   "name": "python",
   "nbconvert_exporter": "python",
   "pygments_lexer": "ipython3",
   "version": "3.7.1"
  }
 },
 "nbformat": 4,
 "nbformat_minor": 2
}
