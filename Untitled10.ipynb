{
 "cells": [
  {
   "cell_type": "code",
   "execution_count": 2,
   "metadata": {},
   "outputs": [],
   "source": [
    "import pandas as pd\n",
    "import numpy as np\n",
    "import matplotlib.pyplot as plt\n",
    "%matplotlib inline"
   ]
  },
  {
   "cell_type": "code",
   "execution_count": 3,
   "metadata": {},
   "outputs": [],
   "source": [
    "import datetime"
   ]
  },
  {
   "cell_type": "code",
   "execution_count": 4,
   "metadata": {},
   "outputs": [],
   "source": [
    "x=datetime.datetime(2018,1,1)"
   ]
  },
  {
   "cell_type": "code",
   "execution_count": 5,
   "metadata": {},
   "outputs": [
    {
     "data": {
      "text/plain": [
       "datetime.datetime(2018, 1, 1, 0, 0)"
      ]
     },
     "execution_count": 5,
     "metadata": {},
     "output_type": "execute_result"
    }
   ],
   "source": [
    "x"
   ]
  },
  {
   "cell_type": "code",
   "execution_count": 7,
   "metadata": {},
   "outputs": [
    {
     "data": {
      "text/plain": [
       "Timestamp('2018-01-01 00:00:00')"
      ]
     },
     "execution_count": 7,
     "metadata": {},
     "output_type": "execute_result"
    }
   ],
   "source": [
    "pd.to_datetime(x)"
   ]
  },
  {
   "cell_type": "code",
   "execution_count": 16,
   "metadata": {},
   "outputs": [],
   "source": [
    "dti=pd.to_datetime('13/1/2018')"
   ]
  },
  {
   "cell_type": "code",
   "execution_count": 11,
   "metadata": {},
   "outputs": [
    {
     "data": {
      "text/plain": [
       "DatetimeIndex(['1947-08-15 00:00:00', '1947-08-15 01:00:00',\n",
       "               '1947-08-15 02:00:00', '1947-08-15 03:00:00',\n",
       "               '1947-08-15 04:00:00'],\n",
       "              dtype='datetime64[ns]', freq='H')"
      ]
     },
     "execution_count": 11,
     "metadata": {},
     "output_type": "execute_result"
    }
   ],
   "source": [
    "pd.date_range('15/8/1947', periods=5, freq='H')"
   ]
  },
  {
   "cell_type": "code",
   "execution_count": 19,
   "metadata": {},
   "outputs": [
    {
     "data": {
      "text/plain": [
       "Timestamp('2018-01-13 00:00:00+0000', tz='UTC')"
      ]
     },
     "execution_count": 19,
     "metadata": {},
     "output_type": "execute_result"
    }
   ],
   "source": [
    "l=dti.tz_localize('UTC')\n",
    "l"
   ]
  },
  {
   "cell_type": "code",
   "execution_count": 21,
   "metadata": {},
   "outputs": [
    {
     "data": {
      "text/plain": [
       "Timestamp('2018-01-13 05:30:00+0530', tz='Asia/Kolkata')"
      ]
     },
     "execution_count": 21,
     "metadata": {},
     "output_type": "execute_result"
    }
   ],
   "source": [
    "f=l.tz_convert('Asia/Kolkata')\n",
    "f"
   ]
  },
  {
   "cell_type": "code",
   "execution_count": 22,
   "metadata": {},
   "outputs": [],
   "source": [
    "s1=pd.date_range('15/08/1947', periods=5, freq='H')"
   ]
  },
  {
   "cell_type": "code",
   "execution_count": 23,
   "metadata": {},
   "outputs": [
    {
     "data": {
      "text/plain": [
       "DatetimeIndex(['1947-08-15 00:00:00', '1947-08-15 01:00:00',\n",
       "               '1947-08-15 02:00:00', '1947-08-15 03:00:00',\n",
       "               '1947-08-15 04:00:00'],\n",
       "              dtype='datetime64[ns]', freq='H')"
      ]
     },
     "execution_count": 23,
     "metadata": {},
     "output_type": "execute_result"
    }
   ],
   "source": [
    "s1"
   ]
  },
  {
   "cell_type": "code",
   "execution_count": 29,
   "metadata": {},
   "outputs": [
    {
     "data": {
      "text/plain": [
       "1947-08-15 00:00:00    0\n",
       "1947-08-15 01:00:00    1\n",
       "1947-08-15 02:00:00    2\n",
       "1947-08-15 03:00:00    3\n",
       "1947-08-15 04:00:00    4\n",
       "Freq: H, dtype: int64"
      ]
     },
     "execution_count": 29,
     "metadata": {},
     "output_type": "execute_result"
    }
   ],
   "source": [
    "ts=pd.Series(range(len(s1)), index=s1)\n",
    "ts"
   ]
  },
  {
   "cell_type": "code",
   "execution_count": 30,
   "metadata": {},
   "outputs": [
    {
     "data": {
      "text/plain": [
       "1947-08-15 00:00:00    0\n",
       "1947-08-15 02:00:00    2\n",
       "1947-08-15 04:00:00    4\n",
       "Freq: 2H, dtype: int64"
      ]
     },
     "execution_count": 30,
     "metadata": {},
     "output_type": "execute_result"
    }
   ],
   "source": [
    "ts.resample('2H').min()"
   ]
  },
  {
   "cell_type": "code",
   "execution_count": 31,
   "metadata": {},
   "outputs": [],
   "source": [
    "friday=pd.Timestamp('15-08-1947')"
   ]
  },
  {
   "cell_type": "code",
   "execution_count": 32,
   "metadata": {},
   "outputs": [
    {
     "data": {
      "text/plain": [
       "'Friday'"
      ]
     },
     "execution_count": 32,
     "metadata": {},
     "output_type": "execute_result"
    }
   ],
   "source": [
    "friday.day_name()"
   ]
  },
  {
   "cell_type": "code",
   "execution_count": 35,
   "metadata": {},
   "outputs": [],
   "source": [
    "Saturday= friday + pd.Timedelta('1 day')"
   ]
  },
  {
   "cell_type": "code",
   "execution_count": 36,
   "metadata": {},
   "outputs": [],
   "source": [
    "Monday= friday + pd.offsets.BDay()"
   ]
  },
  {
   "cell_type": "code",
   "execution_count": 38,
   "metadata": {},
   "outputs": [
    {
     "data": {
      "text/plain": [
       "'Monday'"
      ]
     },
     "execution_count": 38,
     "metadata": {},
     "output_type": "execute_result"
    }
   ],
   "source": [
    "Monday.day_name()"
   ]
  },
  {
   "cell_type": "code",
   "execution_count": 42,
   "metadata": {},
   "outputs": [],
   "source": [
    "x=pd.Timestamp('15-08-1947 05:00:00')"
   ]
  },
  {
   "cell_type": "code",
   "execution_count": 47,
   "metadata": {},
   "outputs": [],
   "source": [
    "y=pd.Timedelta(str(1000*5) +'days')"
   ]
  },
  {
   "cell_type": "code",
   "execution_count": 44,
   "metadata": {},
   "outputs": [
    {
     "data": {
      "text/plain": [
       "Timestamp('1950-05-11 05:00:00')"
      ]
     },
     "execution_count": 44,
     "metadata": {},
     "output_type": "execute_result"
    }
   ],
   "source": [
    "x+y"
   ]
  },
  {
   "cell_type": "code",
   "execution_count": 48,
   "metadata": {},
   "outputs": [
    {
     "data": {
      "text/plain": [
       "0   1947-08\n",
       "1   1947-09\n",
       "2   1947-10\n",
       "dtype: object"
      ]
     },
     "execution_count": 48,
     "metadata": {},
     "output_type": "execute_result"
    }
   ],
   "source": [
    "pd.Series(pd.period_range('15-08-1947', freq='M', periods=3))"
   ]
  },
  {
   "cell_type": "code",
   "execution_count": 51,
   "metadata": {},
   "outputs": [
    {
     "data": {
      "text/plain": [
       "0         <DateOffset>\n",
       "1    <2 * DateOffsets>\n",
       "dtype: object"
      ]
     },
     "execution_count": 51,
     "metadata": {},
     "output_type": "execute_result"
    }
   ],
   "source": [
    "pd.Series([pd.DateOffset(1), pd.DateOffset(2)])"
   ]
  },
  {
   "cell_type": "code",
   "execution_count": 52,
   "metadata": {},
   "outputs": [],
   "source": [
    "z=pd.Timestamp('16-08-1947')"
   ]
  },
  {
   "cell_type": "code",
   "execution_count": 53,
   "metadata": {},
   "outputs": [
    {
     "data": {
      "text/plain": [
       "Timedelta('0 days 19:00:00')"
      ]
     },
     "execution_count": 53,
     "metadata": {},
     "output_type": "execute_result"
    }
   ],
   "source": [
    "z-x"
   ]
  },
  {
   "cell_type": "code",
   "execution_count": 55,
   "metadata": {},
   "outputs": [
    {
     "data": {
      "text/plain": [
       "Timestamp('1933-12-06 05:00:00')"
      ]
     },
     "execution_count": 55,
     "metadata": {},
     "output_type": "execute_result"
    }
   ],
   "source": [
    "x-y"
   ]
  },
  {
   "cell_type": "code",
   "execution_count": 57,
   "metadata": {},
   "outputs": [
    {
     "data": {
      "text/plain": [
       "Timedelta('-5000 days +19:00:00')"
      ]
     },
     "execution_count": 57,
     "metadata": {},
     "output_type": "execute_result"
    }
   ],
   "source": [
    "(z-x)-y"
   ]
  },
  {
   "cell_type": "code",
   "execution_count": 58,
   "metadata": {},
   "outputs": [],
   "source": [
    "np.random.seed(24)\n",
    "df=pd.DataFrame({'A': np.linspace(1,10,10)})\n",
    "df = pd.concat([df, pd.DataFrame(np.random.randn(10, 4), columns=list('BCDE'))],\n",
    "               axis=1)\n",
    "df.iloc[0, 2] = np.nan"
   ]
  },
  {
   "cell_type": "code",
   "execution_count": 60,
   "metadata": {},
   "outputs": [
    {
     "data": {
      "text/html": [
       "<style  type=\"text/css\" >\n",
       "</style>  \n",
       "<table id=\"T_34b3e5a2_4009_11e9_9ef0_e0699588a9c4\" > \n",
       "<thead>    <tr> \n",
       "        <th class=\"blank level0\" ></th> \n",
       "        <th class=\"col_heading level0 col0\" >A</th> \n",
       "        <th class=\"col_heading level0 col1\" >B</th> \n",
       "        <th class=\"col_heading level0 col2\" >C</th> \n",
       "        <th class=\"col_heading level0 col3\" >D</th> \n",
       "        <th class=\"col_heading level0 col4\" >E</th> \n",
       "    </tr></thead> \n",
       "<tbody>    <tr> \n",
       "        <th id=\"T_34b3e5a2_4009_11e9_9ef0_e0699588a9c4level0_row0\" class=\"row_heading level0 row0\" >0</th> \n",
       "        <td id=\"T_34b3e5a2_4009_11e9_9ef0_e0699588a9c4row0_col0\" class=\"data row0 col0\" >1</td> \n",
       "        <td id=\"T_34b3e5a2_4009_11e9_9ef0_e0699588a9c4row0_col1\" class=\"data row0 col1\" >1.32921</td> \n",
       "        <td id=\"T_34b3e5a2_4009_11e9_9ef0_e0699588a9c4row0_col2\" class=\"data row0 col2\" >nan</td> \n",
       "        <td id=\"T_34b3e5a2_4009_11e9_9ef0_e0699588a9c4row0_col3\" class=\"data row0 col3\" >-0.31628</td> \n",
       "        <td id=\"T_34b3e5a2_4009_11e9_9ef0_e0699588a9c4row0_col4\" class=\"data row0 col4\" >-0.99081</td> \n",
       "    </tr>    <tr> \n",
       "        <th id=\"T_34b3e5a2_4009_11e9_9ef0_e0699588a9c4level0_row1\" class=\"row_heading level0 row1\" >1</th> \n",
       "        <td id=\"T_34b3e5a2_4009_11e9_9ef0_e0699588a9c4row1_col0\" class=\"data row1 col0\" >2</td> \n",
       "        <td id=\"T_34b3e5a2_4009_11e9_9ef0_e0699588a9c4row1_col1\" class=\"data row1 col1\" >-1.07082</td> \n",
       "        <td id=\"T_34b3e5a2_4009_11e9_9ef0_e0699588a9c4row1_col2\" class=\"data row1 col2\" >-1.43871</td> \n",
       "        <td id=\"T_34b3e5a2_4009_11e9_9ef0_e0699588a9c4row1_col3\" class=\"data row1 col3\" >0.564417</td> \n",
       "        <td id=\"T_34b3e5a2_4009_11e9_9ef0_e0699588a9c4row1_col4\" class=\"data row1 col4\" >0.295722</td> \n",
       "    </tr>    <tr> \n",
       "        <th id=\"T_34b3e5a2_4009_11e9_9ef0_e0699588a9c4level0_row2\" class=\"row_heading level0 row2\" >2</th> \n",
       "        <td id=\"T_34b3e5a2_4009_11e9_9ef0_e0699588a9c4row2_col0\" class=\"data row2 col0\" >3</td> \n",
       "        <td id=\"T_34b3e5a2_4009_11e9_9ef0_e0699588a9c4row2_col1\" class=\"data row2 col1\" >-1.6264</td> \n",
       "        <td id=\"T_34b3e5a2_4009_11e9_9ef0_e0699588a9c4row2_col2\" class=\"data row2 col2\" >0.219565</td> \n",
       "        <td id=\"T_34b3e5a2_4009_11e9_9ef0_e0699588a9c4row2_col3\" class=\"data row2 col3\" >0.678805</td> \n",
       "        <td id=\"T_34b3e5a2_4009_11e9_9ef0_e0699588a9c4row2_col4\" class=\"data row2 col4\" >1.88927</td> \n",
       "    </tr>    <tr> \n",
       "        <th id=\"T_34b3e5a2_4009_11e9_9ef0_e0699588a9c4level0_row3\" class=\"row_heading level0 row3\" >3</th> \n",
       "        <td id=\"T_34b3e5a2_4009_11e9_9ef0_e0699588a9c4row3_col0\" class=\"data row3 col0\" >4</td> \n",
       "        <td id=\"T_34b3e5a2_4009_11e9_9ef0_e0699588a9c4row3_col1\" class=\"data row3 col1\" >0.961538</td> \n",
       "        <td id=\"T_34b3e5a2_4009_11e9_9ef0_e0699588a9c4row3_col2\" class=\"data row3 col2\" >0.104011</td> \n",
       "        <td id=\"T_34b3e5a2_4009_11e9_9ef0_e0699588a9c4row3_col3\" class=\"data row3 col3\" >-0.481165</td> \n",
       "        <td id=\"T_34b3e5a2_4009_11e9_9ef0_e0699588a9c4row3_col4\" class=\"data row3 col4\" >0.850229</td> \n",
       "    </tr>    <tr> \n",
       "        <th id=\"T_34b3e5a2_4009_11e9_9ef0_e0699588a9c4level0_row4\" class=\"row_heading level0 row4\" >4</th> \n",
       "        <td id=\"T_34b3e5a2_4009_11e9_9ef0_e0699588a9c4row4_col0\" class=\"data row4 col0\" >5</td> \n",
       "        <td id=\"T_34b3e5a2_4009_11e9_9ef0_e0699588a9c4row4_col1\" class=\"data row4 col1\" >1.45342</td> \n",
       "        <td id=\"T_34b3e5a2_4009_11e9_9ef0_e0699588a9c4row4_col2\" class=\"data row4 col2\" >1.05774</td> \n",
       "        <td id=\"T_34b3e5a2_4009_11e9_9ef0_e0699588a9c4row4_col3\" class=\"data row4 col3\" >0.165562</td> \n",
       "        <td id=\"T_34b3e5a2_4009_11e9_9ef0_e0699588a9c4row4_col4\" class=\"data row4 col4\" >0.515018</td> \n",
       "    </tr>    <tr> \n",
       "        <th id=\"T_34b3e5a2_4009_11e9_9ef0_e0699588a9c4level0_row5\" class=\"row_heading level0 row5\" >5</th> \n",
       "        <td id=\"T_34b3e5a2_4009_11e9_9ef0_e0699588a9c4row5_col0\" class=\"data row5 col0\" >6</td> \n",
       "        <td id=\"T_34b3e5a2_4009_11e9_9ef0_e0699588a9c4row5_col1\" class=\"data row5 col1\" >-1.33694</td> \n",
       "        <td id=\"T_34b3e5a2_4009_11e9_9ef0_e0699588a9c4row5_col2\" class=\"data row5 col2\" >0.562861</td> \n",
       "        <td id=\"T_34b3e5a2_4009_11e9_9ef0_e0699588a9c4row5_col3\" class=\"data row5 col3\" >1.39285</td> \n",
       "        <td id=\"T_34b3e5a2_4009_11e9_9ef0_e0699588a9c4row5_col4\" class=\"data row5 col4\" >-0.063328</td> \n",
       "    </tr>    <tr> \n",
       "        <th id=\"T_34b3e5a2_4009_11e9_9ef0_e0699588a9c4level0_row6\" class=\"row_heading level0 row6\" >6</th> \n",
       "        <td id=\"T_34b3e5a2_4009_11e9_9ef0_e0699588a9c4row6_col0\" class=\"data row6 col0\" >7</td> \n",
       "        <td id=\"T_34b3e5a2_4009_11e9_9ef0_e0699588a9c4row6_col1\" class=\"data row6 col1\" >0.121668</td> \n",
       "        <td id=\"T_34b3e5a2_4009_11e9_9ef0_e0699588a9c4row6_col2\" class=\"data row6 col2\" >1.2076</td> \n",
       "        <td id=\"T_34b3e5a2_4009_11e9_9ef0_e0699588a9c4row6_col3\" class=\"data row6 col3\" >-0.00204021</td> \n",
       "        <td id=\"T_34b3e5a2_4009_11e9_9ef0_e0699588a9c4row6_col4\" class=\"data row6 col4\" >1.6278</td> \n",
       "    </tr>    <tr> \n",
       "        <th id=\"T_34b3e5a2_4009_11e9_9ef0_e0699588a9c4level0_row7\" class=\"row_heading level0 row7\" >7</th> \n",
       "        <td id=\"T_34b3e5a2_4009_11e9_9ef0_e0699588a9c4row7_col0\" class=\"data row7 col0\" >8</td> \n",
       "        <td id=\"T_34b3e5a2_4009_11e9_9ef0_e0699588a9c4row7_col1\" class=\"data row7 col1\" >0.354493</td> \n",
       "        <td id=\"T_34b3e5a2_4009_11e9_9ef0_e0699588a9c4row7_col2\" class=\"data row7 col2\" >1.03753</td> \n",
       "        <td id=\"T_34b3e5a2_4009_11e9_9ef0_e0699588a9c4row7_col3\" class=\"data row7 col3\" >-0.385684</td> \n",
       "        <td id=\"T_34b3e5a2_4009_11e9_9ef0_e0699588a9c4row7_col4\" class=\"data row7 col4\" >0.519818</td> \n",
       "    </tr>    <tr> \n",
       "        <th id=\"T_34b3e5a2_4009_11e9_9ef0_e0699588a9c4level0_row8\" class=\"row_heading level0 row8\" >8</th> \n",
       "        <td id=\"T_34b3e5a2_4009_11e9_9ef0_e0699588a9c4row8_col0\" class=\"data row8 col0\" >9</td> \n",
       "        <td id=\"T_34b3e5a2_4009_11e9_9ef0_e0699588a9c4row8_col1\" class=\"data row8 col1\" >1.68658</td> \n",
       "        <td id=\"T_34b3e5a2_4009_11e9_9ef0_e0699588a9c4row8_col2\" class=\"data row8 col2\" >-1.32596</td> \n",
       "        <td id=\"T_34b3e5a2_4009_11e9_9ef0_e0699588a9c4row8_col3\" class=\"data row8 col3\" >1.42898</td> \n",
       "        <td id=\"T_34b3e5a2_4009_11e9_9ef0_e0699588a9c4row8_col4\" class=\"data row8 col4\" >-2.08935</td> \n",
       "    </tr>    <tr> \n",
       "        <th id=\"T_34b3e5a2_4009_11e9_9ef0_e0699588a9c4level0_row9\" class=\"row_heading level0 row9\" >9</th> \n",
       "        <td id=\"T_34b3e5a2_4009_11e9_9ef0_e0699588a9c4row9_col0\" class=\"data row9 col0\" >10</td> \n",
       "        <td id=\"T_34b3e5a2_4009_11e9_9ef0_e0699588a9c4row9_col1\" class=\"data row9 col1\" >-0.12982</td> \n",
       "        <td id=\"T_34b3e5a2_4009_11e9_9ef0_e0699588a9c4row9_col2\" class=\"data row9 col2\" >0.631523</td> \n",
       "        <td id=\"T_34b3e5a2_4009_11e9_9ef0_e0699588a9c4row9_col3\" class=\"data row9 col3\" >-0.586538</td> \n",
       "        <td id=\"T_34b3e5a2_4009_11e9_9ef0_e0699588a9c4row9_col4\" class=\"data row9 col4\" >0.29072</td> \n",
       "    </tr></tbody> \n",
       "</table> "
      ],
      "text/plain": [
       "<pandas.io.formats.style.Styler at 0x88a57b8>"
      ]
     },
     "execution_count": 60,
     "metadata": {},
     "output_type": "execute_result"
    }
   ],
   "source": [
    "df.style"
   ]
  },
  {
   "cell_type": "code",
   "execution_count": 61,
   "metadata": {},
   "outputs": [],
   "source": [
    "def color_negative_red(val):\n",
    "    color='red' if val<0 else 'black'\n",
    "    return 'color: %s' % color "
   ]
  },
  {
   "cell_type": "code",
   "execution_count": 64,
   "metadata": {},
   "outputs": [
    {
     "data": {
      "text/html": [
       "<style  type=\"text/css\" >\n",
       "    #T_5e98ec46_400a_11e9_adbe_e0699588a9c4row0_col0 {\n",
       "            color:  black;\n",
       "        }    #T_5e98ec46_400a_11e9_adbe_e0699588a9c4row0_col1 {\n",
       "            color:  black;\n",
       "        }    #T_5e98ec46_400a_11e9_adbe_e0699588a9c4row0_col2 {\n",
       "            color:  black;\n",
       "        }    #T_5e98ec46_400a_11e9_adbe_e0699588a9c4row0_col3 {\n",
       "            color:  red;\n",
       "        }    #T_5e98ec46_400a_11e9_adbe_e0699588a9c4row0_col4 {\n",
       "            color:  red;\n",
       "        }    #T_5e98ec46_400a_11e9_adbe_e0699588a9c4row1_col0 {\n",
       "            color:  black;\n",
       "        }    #T_5e98ec46_400a_11e9_adbe_e0699588a9c4row1_col1 {\n",
       "            color:  red;\n",
       "        }    #T_5e98ec46_400a_11e9_adbe_e0699588a9c4row1_col2 {\n",
       "            color:  red;\n",
       "        }    #T_5e98ec46_400a_11e9_adbe_e0699588a9c4row1_col3 {\n",
       "            color:  black;\n",
       "        }    #T_5e98ec46_400a_11e9_adbe_e0699588a9c4row1_col4 {\n",
       "            color:  black;\n",
       "        }    #T_5e98ec46_400a_11e9_adbe_e0699588a9c4row2_col0 {\n",
       "            color:  black;\n",
       "        }    #T_5e98ec46_400a_11e9_adbe_e0699588a9c4row2_col1 {\n",
       "            color:  red;\n",
       "        }    #T_5e98ec46_400a_11e9_adbe_e0699588a9c4row2_col2 {\n",
       "            color:  black;\n",
       "        }    #T_5e98ec46_400a_11e9_adbe_e0699588a9c4row2_col3 {\n",
       "            color:  black;\n",
       "        }    #T_5e98ec46_400a_11e9_adbe_e0699588a9c4row2_col4 {\n",
       "            color:  black;\n",
       "        }    #T_5e98ec46_400a_11e9_adbe_e0699588a9c4row3_col0 {\n",
       "            color:  black;\n",
       "        }    #T_5e98ec46_400a_11e9_adbe_e0699588a9c4row3_col1 {\n",
       "            color:  black;\n",
       "        }    #T_5e98ec46_400a_11e9_adbe_e0699588a9c4row3_col2 {\n",
       "            color:  black;\n",
       "        }    #T_5e98ec46_400a_11e9_adbe_e0699588a9c4row3_col3 {\n",
       "            color:  red;\n",
       "        }    #T_5e98ec46_400a_11e9_adbe_e0699588a9c4row3_col4 {\n",
       "            color:  black;\n",
       "        }    #T_5e98ec46_400a_11e9_adbe_e0699588a9c4row4_col0 {\n",
       "            color:  black;\n",
       "        }    #T_5e98ec46_400a_11e9_adbe_e0699588a9c4row4_col1 {\n",
       "            color:  black;\n",
       "        }    #T_5e98ec46_400a_11e9_adbe_e0699588a9c4row4_col2 {\n",
       "            color:  black;\n",
       "        }    #T_5e98ec46_400a_11e9_adbe_e0699588a9c4row4_col3 {\n",
       "            color:  black;\n",
       "        }    #T_5e98ec46_400a_11e9_adbe_e0699588a9c4row4_col4 {\n",
       "            color:  black;\n",
       "        }    #T_5e98ec46_400a_11e9_adbe_e0699588a9c4row5_col0 {\n",
       "            color:  black;\n",
       "        }    #T_5e98ec46_400a_11e9_adbe_e0699588a9c4row5_col1 {\n",
       "            color:  red;\n",
       "        }    #T_5e98ec46_400a_11e9_adbe_e0699588a9c4row5_col2 {\n",
       "            color:  black;\n",
       "        }    #T_5e98ec46_400a_11e9_adbe_e0699588a9c4row5_col3 {\n",
       "            color:  black;\n",
       "        }    #T_5e98ec46_400a_11e9_adbe_e0699588a9c4row5_col4 {\n",
       "            color:  red;\n",
       "        }    #T_5e98ec46_400a_11e9_adbe_e0699588a9c4row6_col0 {\n",
       "            color:  black;\n",
       "        }    #T_5e98ec46_400a_11e9_adbe_e0699588a9c4row6_col1 {\n",
       "            color:  black;\n",
       "        }    #T_5e98ec46_400a_11e9_adbe_e0699588a9c4row6_col2 {\n",
       "            color:  black;\n",
       "        }    #T_5e98ec46_400a_11e9_adbe_e0699588a9c4row6_col3 {\n",
       "            color:  red;\n",
       "        }    #T_5e98ec46_400a_11e9_adbe_e0699588a9c4row6_col4 {\n",
       "            color:  black;\n",
       "        }    #T_5e98ec46_400a_11e9_adbe_e0699588a9c4row7_col0 {\n",
       "            color:  black;\n",
       "        }    #T_5e98ec46_400a_11e9_adbe_e0699588a9c4row7_col1 {\n",
       "            color:  black;\n",
       "        }    #T_5e98ec46_400a_11e9_adbe_e0699588a9c4row7_col2 {\n",
       "            color:  black;\n",
       "        }    #T_5e98ec46_400a_11e9_adbe_e0699588a9c4row7_col3 {\n",
       "            color:  red;\n",
       "        }    #T_5e98ec46_400a_11e9_adbe_e0699588a9c4row7_col4 {\n",
       "            color:  black;\n",
       "        }    #T_5e98ec46_400a_11e9_adbe_e0699588a9c4row8_col0 {\n",
       "            color:  black;\n",
       "        }    #T_5e98ec46_400a_11e9_adbe_e0699588a9c4row8_col1 {\n",
       "            color:  black;\n",
       "        }    #T_5e98ec46_400a_11e9_adbe_e0699588a9c4row8_col2 {\n",
       "            color:  red;\n",
       "        }    #T_5e98ec46_400a_11e9_adbe_e0699588a9c4row8_col3 {\n",
       "            color:  black;\n",
       "        }    #T_5e98ec46_400a_11e9_adbe_e0699588a9c4row8_col4 {\n",
       "            color:  red;\n",
       "        }    #T_5e98ec46_400a_11e9_adbe_e0699588a9c4row9_col0 {\n",
       "            color:  black;\n",
       "        }    #T_5e98ec46_400a_11e9_adbe_e0699588a9c4row9_col1 {\n",
       "            color:  red;\n",
       "        }    #T_5e98ec46_400a_11e9_adbe_e0699588a9c4row9_col2 {\n",
       "            color:  black;\n",
       "        }    #T_5e98ec46_400a_11e9_adbe_e0699588a9c4row9_col3 {\n",
       "            color:  red;\n",
       "        }    #T_5e98ec46_400a_11e9_adbe_e0699588a9c4row9_col4 {\n",
       "            color:  black;\n",
       "        }</style>  \n",
       "<table id=\"T_5e98ec46_400a_11e9_adbe_e0699588a9c4\" > \n",
       "<thead>    <tr> \n",
       "        <th class=\"blank level0\" ></th> \n",
       "        <th class=\"col_heading level0 col0\" >A</th> \n",
       "        <th class=\"col_heading level0 col1\" >B</th> \n",
       "        <th class=\"col_heading level0 col2\" >C</th> \n",
       "        <th class=\"col_heading level0 col3\" >D</th> \n",
       "        <th class=\"col_heading level0 col4\" >E</th> \n",
       "    </tr></thead> \n",
       "<tbody>    <tr> \n",
       "        <th id=\"T_5e98ec46_400a_11e9_adbe_e0699588a9c4level0_row0\" class=\"row_heading level0 row0\" >0</th> \n",
       "        <td id=\"T_5e98ec46_400a_11e9_adbe_e0699588a9c4row0_col0\" class=\"data row0 col0\" >1</td> \n",
       "        <td id=\"T_5e98ec46_400a_11e9_adbe_e0699588a9c4row0_col1\" class=\"data row0 col1\" >1.32921</td> \n",
       "        <td id=\"T_5e98ec46_400a_11e9_adbe_e0699588a9c4row0_col2\" class=\"data row0 col2\" >nan</td> \n",
       "        <td id=\"T_5e98ec46_400a_11e9_adbe_e0699588a9c4row0_col3\" class=\"data row0 col3\" >-0.31628</td> \n",
       "        <td id=\"T_5e98ec46_400a_11e9_adbe_e0699588a9c4row0_col4\" class=\"data row0 col4\" >-0.99081</td> \n",
       "    </tr>    <tr> \n",
       "        <th id=\"T_5e98ec46_400a_11e9_adbe_e0699588a9c4level0_row1\" class=\"row_heading level0 row1\" >1</th> \n",
       "        <td id=\"T_5e98ec46_400a_11e9_adbe_e0699588a9c4row1_col0\" class=\"data row1 col0\" >2</td> \n",
       "        <td id=\"T_5e98ec46_400a_11e9_adbe_e0699588a9c4row1_col1\" class=\"data row1 col1\" >-1.07082</td> \n",
       "        <td id=\"T_5e98ec46_400a_11e9_adbe_e0699588a9c4row1_col2\" class=\"data row1 col2\" >-1.43871</td> \n",
       "        <td id=\"T_5e98ec46_400a_11e9_adbe_e0699588a9c4row1_col3\" class=\"data row1 col3\" >0.564417</td> \n",
       "        <td id=\"T_5e98ec46_400a_11e9_adbe_e0699588a9c4row1_col4\" class=\"data row1 col4\" >0.295722</td> \n",
       "    </tr>    <tr> \n",
       "        <th id=\"T_5e98ec46_400a_11e9_adbe_e0699588a9c4level0_row2\" class=\"row_heading level0 row2\" >2</th> \n",
       "        <td id=\"T_5e98ec46_400a_11e9_adbe_e0699588a9c4row2_col0\" class=\"data row2 col0\" >3</td> \n",
       "        <td id=\"T_5e98ec46_400a_11e9_adbe_e0699588a9c4row2_col1\" class=\"data row2 col1\" >-1.6264</td> \n",
       "        <td id=\"T_5e98ec46_400a_11e9_adbe_e0699588a9c4row2_col2\" class=\"data row2 col2\" >0.219565</td> \n",
       "        <td id=\"T_5e98ec46_400a_11e9_adbe_e0699588a9c4row2_col3\" class=\"data row2 col3\" >0.678805</td> \n",
       "        <td id=\"T_5e98ec46_400a_11e9_adbe_e0699588a9c4row2_col4\" class=\"data row2 col4\" >1.88927</td> \n",
       "    </tr>    <tr> \n",
       "        <th id=\"T_5e98ec46_400a_11e9_adbe_e0699588a9c4level0_row3\" class=\"row_heading level0 row3\" >3</th> \n",
       "        <td id=\"T_5e98ec46_400a_11e9_adbe_e0699588a9c4row3_col0\" class=\"data row3 col0\" >4</td> \n",
       "        <td id=\"T_5e98ec46_400a_11e9_adbe_e0699588a9c4row3_col1\" class=\"data row3 col1\" >0.961538</td> \n",
       "        <td id=\"T_5e98ec46_400a_11e9_adbe_e0699588a9c4row3_col2\" class=\"data row3 col2\" >0.104011</td> \n",
       "        <td id=\"T_5e98ec46_400a_11e9_adbe_e0699588a9c4row3_col3\" class=\"data row3 col3\" >-0.481165</td> \n",
       "        <td id=\"T_5e98ec46_400a_11e9_adbe_e0699588a9c4row3_col4\" class=\"data row3 col4\" >0.850229</td> \n",
       "    </tr>    <tr> \n",
       "        <th id=\"T_5e98ec46_400a_11e9_adbe_e0699588a9c4level0_row4\" class=\"row_heading level0 row4\" >4</th> \n",
       "        <td id=\"T_5e98ec46_400a_11e9_adbe_e0699588a9c4row4_col0\" class=\"data row4 col0\" >5</td> \n",
       "        <td id=\"T_5e98ec46_400a_11e9_adbe_e0699588a9c4row4_col1\" class=\"data row4 col1\" >1.45342</td> \n",
       "        <td id=\"T_5e98ec46_400a_11e9_adbe_e0699588a9c4row4_col2\" class=\"data row4 col2\" >1.05774</td> \n",
       "        <td id=\"T_5e98ec46_400a_11e9_adbe_e0699588a9c4row4_col3\" class=\"data row4 col3\" >0.165562</td> \n",
       "        <td id=\"T_5e98ec46_400a_11e9_adbe_e0699588a9c4row4_col4\" class=\"data row4 col4\" >0.515018</td> \n",
       "    </tr>    <tr> \n",
       "        <th id=\"T_5e98ec46_400a_11e9_adbe_e0699588a9c4level0_row5\" class=\"row_heading level0 row5\" >5</th> \n",
       "        <td id=\"T_5e98ec46_400a_11e9_adbe_e0699588a9c4row5_col0\" class=\"data row5 col0\" >6</td> \n",
       "        <td id=\"T_5e98ec46_400a_11e9_adbe_e0699588a9c4row5_col1\" class=\"data row5 col1\" >-1.33694</td> \n",
       "        <td id=\"T_5e98ec46_400a_11e9_adbe_e0699588a9c4row5_col2\" class=\"data row5 col2\" >0.562861</td> \n",
       "        <td id=\"T_5e98ec46_400a_11e9_adbe_e0699588a9c4row5_col3\" class=\"data row5 col3\" >1.39285</td> \n",
       "        <td id=\"T_5e98ec46_400a_11e9_adbe_e0699588a9c4row5_col4\" class=\"data row5 col4\" >-0.063328</td> \n",
       "    </tr>    <tr> \n",
       "        <th id=\"T_5e98ec46_400a_11e9_adbe_e0699588a9c4level0_row6\" class=\"row_heading level0 row6\" >6</th> \n",
       "        <td id=\"T_5e98ec46_400a_11e9_adbe_e0699588a9c4row6_col0\" class=\"data row6 col0\" >7</td> \n",
       "        <td id=\"T_5e98ec46_400a_11e9_adbe_e0699588a9c4row6_col1\" class=\"data row6 col1\" >0.121668</td> \n",
       "        <td id=\"T_5e98ec46_400a_11e9_adbe_e0699588a9c4row6_col2\" class=\"data row6 col2\" >1.2076</td> \n",
       "        <td id=\"T_5e98ec46_400a_11e9_adbe_e0699588a9c4row6_col3\" class=\"data row6 col3\" >-0.00204021</td> \n",
       "        <td id=\"T_5e98ec46_400a_11e9_adbe_e0699588a9c4row6_col4\" class=\"data row6 col4\" >1.6278</td> \n",
       "    </tr>    <tr> \n",
       "        <th id=\"T_5e98ec46_400a_11e9_adbe_e0699588a9c4level0_row7\" class=\"row_heading level0 row7\" >7</th> \n",
       "        <td id=\"T_5e98ec46_400a_11e9_adbe_e0699588a9c4row7_col0\" class=\"data row7 col0\" >8</td> \n",
       "        <td id=\"T_5e98ec46_400a_11e9_adbe_e0699588a9c4row7_col1\" class=\"data row7 col1\" >0.354493</td> \n",
       "        <td id=\"T_5e98ec46_400a_11e9_adbe_e0699588a9c4row7_col2\" class=\"data row7 col2\" >1.03753</td> \n",
       "        <td id=\"T_5e98ec46_400a_11e9_adbe_e0699588a9c4row7_col3\" class=\"data row7 col3\" >-0.385684</td> \n",
       "        <td id=\"T_5e98ec46_400a_11e9_adbe_e0699588a9c4row7_col4\" class=\"data row7 col4\" >0.519818</td> \n",
       "    </tr>    <tr> \n",
       "        <th id=\"T_5e98ec46_400a_11e9_adbe_e0699588a9c4level0_row8\" class=\"row_heading level0 row8\" >8</th> \n",
       "        <td id=\"T_5e98ec46_400a_11e9_adbe_e0699588a9c4row8_col0\" class=\"data row8 col0\" >9</td> \n",
       "        <td id=\"T_5e98ec46_400a_11e9_adbe_e0699588a9c4row8_col1\" class=\"data row8 col1\" >1.68658</td> \n",
       "        <td id=\"T_5e98ec46_400a_11e9_adbe_e0699588a9c4row8_col2\" class=\"data row8 col2\" >-1.32596</td> \n",
       "        <td id=\"T_5e98ec46_400a_11e9_adbe_e0699588a9c4row8_col3\" class=\"data row8 col3\" >1.42898</td> \n",
       "        <td id=\"T_5e98ec46_400a_11e9_adbe_e0699588a9c4row8_col4\" class=\"data row8 col4\" >-2.08935</td> \n",
       "    </tr>    <tr> \n",
       "        <th id=\"T_5e98ec46_400a_11e9_adbe_e0699588a9c4level0_row9\" class=\"row_heading level0 row9\" >9</th> \n",
       "        <td id=\"T_5e98ec46_400a_11e9_adbe_e0699588a9c4row9_col0\" class=\"data row9 col0\" >10</td> \n",
       "        <td id=\"T_5e98ec46_400a_11e9_adbe_e0699588a9c4row9_col1\" class=\"data row9 col1\" >-0.12982</td> \n",
       "        <td id=\"T_5e98ec46_400a_11e9_adbe_e0699588a9c4row9_col2\" class=\"data row9 col2\" >0.631523</td> \n",
       "        <td id=\"T_5e98ec46_400a_11e9_adbe_e0699588a9c4row9_col3\" class=\"data row9 col3\" >-0.586538</td> \n",
       "        <td id=\"T_5e98ec46_400a_11e9_adbe_e0699588a9c4row9_col4\" class=\"data row9 col4\" >0.29072</td> \n",
       "    </tr></tbody> \n",
       "</table> "
      ],
      "text/plain": [
       "<pandas.io.formats.style.Styler at 0x8d12320>"
      ]
     },
     "execution_count": 64,
     "metadata": {},
     "output_type": "execute_result"
    }
   ],
   "source": [
    "s=df.style.applymap(color_negative_red)\n",
    "s"
   ]
  },
  {
   "cell_type": "code",
   "execution_count": 74,
   "metadata": {},
   "outputs": [],
   "source": [
    "def highlight_max(s):\n",
    "    is_max=s==s.max()\n",
    "    return['background-color: yellow' if v else '' for v in is_max]"
   ]
  },
  {
   "cell_type": "code",
   "execution_count": 75,
   "metadata": {},
   "outputs": [
    {
     "data": {
      "text/html": [
       "<style  type=\"text/css\" >\n",
       "    #T_dbf21934_400a_11e9_8cdb_e0699588a9c4row2_col4 {\n",
       "            background-color:  yellow;\n",
       "        }    #T_dbf21934_400a_11e9_8cdb_e0699588a9c4row6_col2 {\n",
       "            background-color:  yellow;\n",
       "        }    #T_dbf21934_400a_11e9_8cdb_e0699588a9c4row8_col1 {\n",
       "            background-color:  yellow;\n",
       "        }    #T_dbf21934_400a_11e9_8cdb_e0699588a9c4row8_col3 {\n",
       "            background-color:  yellow;\n",
       "        }    #T_dbf21934_400a_11e9_8cdb_e0699588a9c4row9_col0 {\n",
       "            background-color:  yellow;\n",
       "        }</style>  \n",
       "<table id=\"T_dbf21934_400a_11e9_8cdb_e0699588a9c4\" > \n",
       "<thead>    <tr> \n",
       "        <th class=\"blank level0\" ></th> \n",
       "        <th class=\"col_heading level0 col0\" >A</th> \n",
       "        <th class=\"col_heading level0 col1\" >B</th> \n",
       "        <th class=\"col_heading level0 col2\" >C</th> \n",
       "        <th class=\"col_heading level0 col3\" >D</th> \n",
       "        <th class=\"col_heading level0 col4\" >E</th> \n",
       "    </tr></thead> \n",
       "<tbody>    <tr> \n",
       "        <th id=\"T_dbf21934_400a_11e9_8cdb_e0699588a9c4level0_row0\" class=\"row_heading level0 row0\" >0</th> \n",
       "        <td id=\"T_dbf21934_400a_11e9_8cdb_e0699588a9c4row0_col0\" class=\"data row0 col0\" >1</td> \n",
       "        <td id=\"T_dbf21934_400a_11e9_8cdb_e0699588a9c4row0_col1\" class=\"data row0 col1\" >1.32921</td> \n",
       "        <td id=\"T_dbf21934_400a_11e9_8cdb_e0699588a9c4row0_col2\" class=\"data row0 col2\" >nan</td> \n",
       "        <td id=\"T_dbf21934_400a_11e9_8cdb_e0699588a9c4row0_col3\" class=\"data row0 col3\" >-0.31628</td> \n",
       "        <td id=\"T_dbf21934_400a_11e9_8cdb_e0699588a9c4row0_col4\" class=\"data row0 col4\" >-0.99081</td> \n",
       "    </tr>    <tr> \n",
       "        <th id=\"T_dbf21934_400a_11e9_8cdb_e0699588a9c4level0_row1\" class=\"row_heading level0 row1\" >1</th> \n",
       "        <td id=\"T_dbf21934_400a_11e9_8cdb_e0699588a9c4row1_col0\" class=\"data row1 col0\" >2</td> \n",
       "        <td id=\"T_dbf21934_400a_11e9_8cdb_e0699588a9c4row1_col1\" class=\"data row1 col1\" >-1.07082</td> \n",
       "        <td id=\"T_dbf21934_400a_11e9_8cdb_e0699588a9c4row1_col2\" class=\"data row1 col2\" >-1.43871</td> \n",
       "        <td id=\"T_dbf21934_400a_11e9_8cdb_e0699588a9c4row1_col3\" class=\"data row1 col3\" >0.564417</td> \n",
       "        <td id=\"T_dbf21934_400a_11e9_8cdb_e0699588a9c4row1_col4\" class=\"data row1 col4\" >0.295722</td> \n",
       "    </tr>    <tr> \n",
       "        <th id=\"T_dbf21934_400a_11e9_8cdb_e0699588a9c4level0_row2\" class=\"row_heading level0 row2\" >2</th> \n",
       "        <td id=\"T_dbf21934_400a_11e9_8cdb_e0699588a9c4row2_col0\" class=\"data row2 col0\" >3</td> \n",
       "        <td id=\"T_dbf21934_400a_11e9_8cdb_e0699588a9c4row2_col1\" class=\"data row2 col1\" >-1.6264</td> \n",
       "        <td id=\"T_dbf21934_400a_11e9_8cdb_e0699588a9c4row2_col2\" class=\"data row2 col2\" >0.219565</td> \n",
       "        <td id=\"T_dbf21934_400a_11e9_8cdb_e0699588a9c4row2_col3\" class=\"data row2 col3\" >0.678805</td> \n",
       "        <td id=\"T_dbf21934_400a_11e9_8cdb_e0699588a9c4row2_col4\" class=\"data row2 col4\" >1.88927</td> \n",
       "    </tr>    <tr> \n",
       "        <th id=\"T_dbf21934_400a_11e9_8cdb_e0699588a9c4level0_row3\" class=\"row_heading level0 row3\" >3</th> \n",
       "        <td id=\"T_dbf21934_400a_11e9_8cdb_e0699588a9c4row3_col0\" class=\"data row3 col0\" >4</td> \n",
       "        <td id=\"T_dbf21934_400a_11e9_8cdb_e0699588a9c4row3_col1\" class=\"data row3 col1\" >0.961538</td> \n",
       "        <td id=\"T_dbf21934_400a_11e9_8cdb_e0699588a9c4row3_col2\" class=\"data row3 col2\" >0.104011</td> \n",
       "        <td id=\"T_dbf21934_400a_11e9_8cdb_e0699588a9c4row3_col3\" class=\"data row3 col3\" >-0.481165</td> \n",
       "        <td id=\"T_dbf21934_400a_11e9_8cdb_e0699588a9c4row3_col4\" class=\"data row3 col4\" >0.850229</td> \n",
       "    </tr>    <tr> \n",
       "        <th id=\"T_dbf21934_400a_11e9_8cdb_e0699588a9c4level0_row4\" class=\"row_heading level0 row4\" >4</th> \n",
       "        <td id=\"T_dbf21934_400a_11e9_8cdb_e0699588a9c4row4_col0\" class=\"data row4 col0\" >5</td> \n",
       "        <td id=\"T_dbf21934_400a_11e9_8cdb_e0699588a9c4row4_col1\" class=\"data row4 col1\" >1.45342</td> \n",
       "        <td id=\"T_dbf21934_400a_11e9_8cdb_e0699588a9c4row4_col2\" class=\"data row4 col2\" >1.05774</td> \n",
       "        <td id=\"T_dbf21934_400a_11e9_8cdb_e0699588a9c4row4_col3\" class=\"data row4 col3\" >0.165562</td> \n",
       "        <td id=\"T_dbf21934_400a_11e9_8cdb_e0699588a9c4row4_col4\" class=\"data row4 col4\" >0.515018</td> \n",
       "    </tr>    <tr> \n",
       "        <th id=\"T_dbf21934_400a_11e9_8cdb_e0699588a9c4level0_row5\" class=\"row_heading level0 row5\" >5</th> \n",
       "        <td id=\"T_dbf21934_400a_11e9_8cdb_e0699588a9c4row5_col0\" class=\"data row5 col0\" >6</td> \n",
       "        <td id=\"T_dbf21934_400a_11e9_8cdb_e0699588a9c4row5_col1\" class=\"data row5 col1\" >-1.33694</td> \n",
       "        <td id=\"T_dbf21934_400a_11e9_8cdb_e0699588a9c4row5_col2\" class=\"data row5 col2\" >0.562861</td> \n",
       "        <td id=\"T_dbf21934_400a_11e9_8cdb_e0699588a9c4row5_col3\" class=\"data row5 col3\" >1.39285</td> \n",
       "        <td id=\"T_dbf21934_400a_11e9_8cdb_e0699588a9c4row5_col4\" class=\"data row5 col4\" >-0.063328</td> \n",
       "    </tr>    <tr> \n",
       "        <th id=\"T_dbf21934_400a_11e9_8cdb_e0699588a9c4level0_row6\" class=\"row_heading level0 row6\" >6</th> \n",
       "        <td id=\"T_dbf21934_400a_11e9_8cdb_e0699588a9c4row6_col0\" class=\"data row6 col0\" >7</td> \n",
       "        <td id=\"T_dbf21934_400a_11e9_8cdb_e0699588a9c4row6_col1\" class=\"data row6 col1\" >0.121668</td> \n",
       "        <td id=\"T_dbf21934_400a_11e9_8cdb_e0699588a9c4row6_col2\" class=\"data row6 col2\" >1.2076</td> \n",
       "        <td id=\"T_dbf21934_400a_11e9_8cdb_e0699588a9c4row6_col3\" class=\"data row6 col3\" >-0.00204021</td> \n",
       "        <td id=\"T_dbf21934_400a_11e9_8cdb_e0699588a9c4row6_col4\" class=\"data row6 col4\" >1.6278</td> \n",
       "    </tr>    <tr> \n",
       "        <th id=\"T_dbf21934_400a_11e9_8cdb_e0699588a9c4level0_row7\" class=\"row_heading level0 row7\" >7</th> \n",
       "        <td id=\"T_dbf21934_400a_11e9_8cdb_e0699588a9c4row7_col0\" class=\"data row7 col0\" >8</td> \n",
       "        <td id=\"T_dbf21934_400a_11e9_8cdb_e0699588a9c4row7_col1\" class=\"data row7 col1\" >0.354493</td> \n",
       "        <td id=\"T_dbf21934_400a_11e9_8cdb_e0699588a9c4row7_col2\" class=\"data row7 col2\" >1.03753</td> \n",
       "        <td id=\"T_dbf21934_400a_11e9_8cdb_e0699588a9c4row7_col3\" class=\"data row7 col3\" >-0.385684</td> \n",
       "        <td id=\"T_dbf21934_400a_11e9_8cdb_e0699588a9c4row7_col4\" class=\"data row7 col4\" >0.519818</td> \n",
       "    </tr>    <tr> \n",
       "        <th id=\"T_dbf21934_400a_11e9_8cdb_e0699588a9c4level0_row8\" class=\"row_heading level0 row8\" >8</th> \n",
       "        <td id=\"T_dbf21934_400a_11e9_8cdb_e0699588a9c4row8_col0\" class=\"data row8 col0\" >9</td> \n",
       "        <td id=\"T_dbf21934_400a_11e9_8cdb_e0699588a9c4row8_col1\" class=\"data row8 col1\" >1.68658</td> \n",
       "        <td id=\"T_dbf21934_400a_11e9_8cdb_e0699588a9c4row8_col2\" class=\"data row8 col2\" >-1.32596</td> \n",
       "        <td id=\"T_dbf21934_400a_11e9_8cdb_e0699588a9c4row8_col3\" class=\"data row8 col3\" >1.42898</td> \n",
       "        <td id=\"T_dbf21934_400a_11e9_8cdb_e0699588a9c4row8_col4\" class=\"data row8 col4\" >-2.08935</td> \n",
       "    </tr>    <tr> \n",
       "        <th id=\"T_dbf21934_400a_11e9_8cdb_e0699588a9c4level0_row9\" class=\"row_heading level0 row9\" >9</th> \n",
       "        <td id=\"T_dbf21934_400a_11e9_8cdb_e0699588a9c4row9_col0\" class=\"data row9 col0\" >10</td> \n",
       "        <td id=\"T_dbf21934_400a_11e9_8cdb_e0699588a9c4row9_col1\" class=\"data row9 col1\" >-0.12982</td> \n",
       "        <td id=\"T_dbf21934_400a_11e9_8cdb_e0699588a9c4row9_col2\" class=\"data row9 col2\" >0.631523</td> \n",
       "        <td id=\"T_dbf21934_400a_11e9_8cdb_e0699588a9c4row9_col3\" class=\"data row9 col3\" >-0.586538</td> \n",
       "        <td id=\"T_dbf21934_400a_11e9_8cdb_e0699588a9c4row9_col4\" class=\"data row9 col4\" >0.29072</td> \n",
       "    </tr></tbody> \n",
       "</table> "
      ],
      "text/plain": [
       "<pandas.io.formats.style.Styler at 0x9583f98>"
      ]
     },
     "execution_count": 75,
     "metadata": {},
     "output_type": "execute_result"
    }
   ],
   "source": [
    "df.style.apply(highlight_max)"
   ]
  },
  {
   "cell_type": "code",
   "execution_count": 76,
   "metadata": {},
   "outputs": [
    {
     "data": {
      "text/html": [
       "<style  type=\"text/css\" >\n",
       "    #T_ebafc5ba_400b_11e9_a63c_e0699588a9c4row6_col2 {\n",
       "            background-color:  yellow;\n",
       "        }    #T_ebafc5ba_400b_11e9_a63c_e0699588a9c4row8_col1 {\n",
       "            background-color:  yellow;\n",
       "        }    #T_ebafc5ba_400b_11e9_a63c_e0699588a9c4row8_col3 {\n",
       "            background-color:  yellow;\n",
       "        }</style>  \n",
       "<table id=\"T_ebafc5ba_400b_11e9_a63c_e0699588a9c4\" > \n",
       "<thead>    <tr> \n",
       "        <th class=\"blank level0\" ></th> \n",
       "        <th class=\"col_heading level0 col0\" >A</th> \n",
       "        <th class=\"col_heading level0 col1\" >B</th> \n",
       "        <th class=\"col_heading level0 col2\" >C</th> \n",
       "        <th class=\"col_heading level0 col3\" >D</th> \n",
       "        <th class=\"col_heading level0 col4\" >E</th> \n",
       "    </tr></thead> \n",
       "<tbody>    <tr> \n",
       "        <th id=\"T_ebafc5ba_400b_11e9_a63c_e0699588a9c4level0_row0\" class=\"row_heading level0 row0\" >0</th> \n",
       "        <td id=\"T_ebafc5ba_400b_11e9_a63c_e0699588a9c4row0_col0\" class=\"data row0 col0\" >1</td> \n",
       "        <td id=\"T_ebafc5ba_400b_11e9_a63c_e0699588a9c4row0_col1\" class=\"data row0 col1\" >1.32921</td> \n",
       "        <td id=\"T_ebafc5ba_400b_11e9_a63c_e0699588a9c4row0_col2\" class=\"data row0 col2\" >nan</td> \n",
       "        <td id=\"T_ebafc5ba_400b_11e9_a63c_e0699588a9c4row0_col3\" class=\"data row0 col3\" >-0.31628</td> \n",
       "        <td id=\"T_ebafc5ba_400b_11e9_a63c_e0699588a9c4row0_col4\" class=\"data row0 col4\" >-0.99081</td> \n",
       "    </tr>    <tr> \n",
       "        <th id=\"T_ebafc5ba_400b_11e9_a63c_e0699588a9c4level0_row1\" class=\"row_heading level0 row1\" >1</th> \n",
       "        <td id=\"T_ebafc5ba_400b_11e9_a63c_e0699588a9c4row1_col0\" class=\"data row1 col0\" >2</td> \n",
       "        <td id=\"T_ebafc5ba_400b_11e9_a63c_e0699588a9c4row1_col1\" class=\"data row1 col1\" >-1.07082</td> \n",
       "        <td id=\"T_ebafc5ba_400b_11e9_a63c_e0699588a9c4row1_col2\" class=\"data row1 col2\" >-1.43871</td> \n",
       "        <td id=\"T_ebafc5ba_400b_11e9_a63c_e0699588a9c4row1_col3\" class=\"data row1 col3\" >0.564417</td> \n",
       "        <td id=\"T_ebafc5ba_400b_11e9_a63c_e0699588a9c4row1_col4\" class=\"data row1 col4\" >0.295722</td> \n",
       "    </tr>    <tr> \n",
       "        <th id=\"T_ebafc5ba_400b_11e9_a63c_e0699588a9c4level0_row2\" class=\"row_heading level0 row2\" >2</th> \n",
       "        <td id=\"T_ebafc5ba_400b_11e9_a63c_e0699588a9c4row2_col0\" class=\"data row2 col0\" >3</td> \n",
       "        <td id=\"T_ebafc5ba_400b_11e9_a63c_e0699588a9c4row2_col1\" class=\"data row2 col1\" >-1.6264</td> \n",
       "        <td id=\"T_ebafc5ba_400b_11e9_a63c_e0699588a9c4row2_col2\" class=\"data row2 col2\" >0.219565</td> \n",
       "        <td id=\"T_ebafc5ba_400b_11e9_a63c_e0699588a9c4row2_col3\" class=\"data row2 col3\" >0.678805</td> \n",
       "        <td id=\"T_ebafc5ba_400b_11e9_a63c_e0699588a9c4row2_col4\" class=\"data row2 col4\" >1.88927</td> \n",
       "    </tr>    <tr> \n",
       "        <th id=\"T_ebafc5ba_400b_11e9_a63c_e0699588a9c4level0_row3\" class=\"row_heading level0 row3\" >3</th> \n",
       "        <td id=\"T_ebafc5ba_400b_11e9_a63c_e0699588a9c4row3_col0\" class=\"data row3 col0\" >4</td> \n",
       "        <td id=\"T_ebafc5ba_400b_11e9_a63c_e0699588a9c4row3_col1\" class=\"data row3 col1\" >0.961538</td> \n",
       "        <td id=\"T_ebafc5ba_400b_11e9_a63c_e0699588a9c4row3_col2\" class=\"data row3 col2\" >0.104011</td> \n",
       "        <td id=\"T_ebafc5ba_400b_11e9_a63c_e0699588a9c4row3_col3\" class=\"data row3 col3\" >-0.481165</td> \n",
       "        <td id=\"T_ebafc5ba_400b_11e9_a63c_e0699588a9c4row3_col4\" class=\"data row3 col4\" >0.850229</td> \n",
       "    </tr>    <tr> \n",
       "        <th id=\"T_ebafc5ba_400b_11e9_a63c_e0699588a9c4level0_row4\" class=\"row_heading level0 row4\" >4</th> \n",
       "        <td id=\"T_ebafc5ba_400b_11e9_a63c_e0699588a9c4row4_col0\" class=\"data row4 col0\" >5</td> \n",
       "        <td id=\"T_ebafc5ba_400b_11e9_a63c_e0699588a9c4row4_col1\" class=\"data row4 col1\" >1.45342</td> \n",
       "        <td id=\"T_ebafc5ba_400b_11e9_a63c_e0699588a9c4row4_col2\" class=\"data row4 col2\" >1.05774</td> \n",
       "        <td id=\"T_ebafc5ba_400b_11e9_a63c_e0699588a9c4row4_col3\" class=\"data row4 col3\" >0.165562</td> \n",
       "        <td id=\"T_ebafc5ba_400b_11e9_a63c_e0699588a9c4row4_col4\" class=\"data row4 col4\" >0.515018</td> \n",
       "    </tr>    <tr> \n",
       "        <th id=\"T_ebafc5ba_400b_11e9_a63c_e0699588a9c4level0_row5\" class=\"row_heading level0 row5\" >5</th> \n",
       "        <td id=\"T_ebafc5ba_400b_11e9_a63c_e0699588a9c4row5_col0\" class=\"data row5 col0\" >6</td> \n",
       "        <td id=\"T_ebafc5ba_400b_11e9_a63c_e0699588a9c4row5_col1\" class=\"data row5 col1\" >-1.33694</td> \n",
       "        <td id=\"T_ebafc5ba_400b_11e9_a63c_e0699588a9c4row5_col2\" class=\"data row5 col2\" >0.562861</td> \n",
       "        <td id=\"T_ebafc5ba_400b_11e9_a63c_e0699588a9c4row5_col3\" class=\"data row5 col3\" >1.39285</td> \n",
       "        <td id=\"T_ebafc5ba_400b_11e9_a63c_e0699588a9c4row5_col4\" class=\"data row5 col4\" >-0.063328</td> \n",
       "    </tr>    <tr> \n",
       "        <th id=\"T_ebafc5ba_400b_11e9_a63c_e0699588a9c4level0_row6\" class=\"row_heading level0 row6\" >6</th> \n",
       "        <td id=\"T_ebafc5ba_400b_11e9_a63c_e0699588a9c4row6_col0\" class=\"data row6 col0\" >7</td> \n",
       "        <td id=\"T_ebafc5ba_400b_11e9_a63c_e0699588a9c4row6_col1\" class=\"data row6 col1\" >0.121668</td> \n",
       "        <td id=\"T_ebafc5ba_400b_11e9_a63c_e0699588a9c4row6_col2\" class=\"data row6 col2\" >1.2076</td> \n",
       "        <td id=\"T_ebafc5ba_400b_11e9_a63c_e0699588a9c4row6_col3\" class=\"data row6 col3\" >-0.00204021</td> \n",
       "        <td id=\"T_ebafc5ba_400b_11e9_a63c_e0699588a9c4row6_col4\" class=\"data row6 col4\" >1.6278</td> \n",
       "    </tr>    <tr> \n",
       "        <th id=\"T_ebafc5ba_400b_11e9_a63c_e0699588a9c4level0_row7\" class=\"row_heading level0 row7\" >7</th> \n",
       "        <td id=\"T_ebafc5ba_400b_11e9_a63c_e0699588a9c4row7_col0\" class=\"data row7 col0\" >8</td> \n",
       "        <td id=\"T_ebafc5ba_400b_11e9_a63c_e0699588a9c4row7_col1\" class=\"data row7 col1\" >0.354493</td> \n",
       "        <td id=\"T_ebafc5ba_400b_11e9_a63c_e0699588a9c4row7_col2\" class=\"data row7 col2\" >1.03753</td> \n",
       "        <td id=\"T_ebafc5ba_400b_11e9_a63c_e0699588a9c4row7_col3\" class=\"data row7 col3\" >-0.385684</td> \n",
       "        <td id=\"T_ebafc5ba_400b_11e9_a63c_e0699588a9c4row7_col4\" class=\"data row7 col4\" >0.519818</td> \n",
       "    </tr>    <tr> \n",
       "        <th id=\"T_ebafc5ba_400b_11e9_a63c_e0699588a9c4level0_row8\" class=\"row_heading level0 row8\" >8</th> \n",
       "        <td id=\"T_ebafc5ba_400b_11e9_a63c_e0699588a9c4row8_col0\" class=\"data row8 col0\" >9</td> \n",
       "        <td id=\"T_ebafc5ba_400b_11e9_a63c_e0699588a9c4row8_col1\" class=\"data row8 col1\" >1.68658</td> \n",
       "        <td id=\"T_ebafc5ba_400b_11e9_a63c_e0699588a9c4row8_col2\" class=\"data row8 col2\" >-1.32596</td> \n",
       "        <td id=\"T_ebafc5ba_400b_11e9_a63c_e0699588a9c4row8_col3\" class=\"data row8 col3\" >1.42898</td> \n",
       "        <td id=\"T_ebafc5ba_400b_11e9_a63c_e0699588a9c4row8_col4\" class=\"data row8 col4\" >-2.08935</td> \n",
       "    </tr>    <tr> \n",
       "        <th id=\"T_ebafc5ba_400b_11e9_a63c_e0699588a9c4level0_row9\" class=\"row_heading level0 row9\" >9</th> \n",
       "        <td id=\"T_ebafc5ba_400b_11e9_a63c_e0699588a9c4row9_col0\" class=\"data row9 col0\" >10</td> \n",
       "        <td id=\"T_ebafc5ba_400b_11e9_a63c_e0699588a9c4row9_col1\" class=\"data row9 col1\" >-0.12982</td> \n",
       "        <td id=\"T_ebafc5ba_400b_11e9_a63c_e0699588a9c4row9_col2\" class=\"data row9 col2\" >0.631523</td> \n",
       "        <td id=\"T_ebafc5ba_400b_11e9_a63c_e0699588a9c4row9_col3\" class=\"data row9 col3\" >-0.586538</td> \n",
       "        <td id=\"T_ebafc5ba_400b_11e9_a63c_e0699588a9c4row9_col4\" class=\"data row9 col4\" >0.29072</td> \n",
       "    </tr></tbody> \n",
       "</table> "
      ],
      "text/plain": [
       "<pandas.io.formats.style.Styler at 0x9cb9390>"
      ]
     },
     "execution_count": 76,
     "metadata": {},
     "output_type": "execute_result"
    }
   ],
   "source": [
    "df.style.apply(highlight_max, subset=['B','C','D'])"
   ]
  },
  {
   "cell_type": "code",
   "execution_count": 77,
   "metadata": {},
   "outputs": [
    {
     "data": {
      "text/html": [
       "<style  type=\"text/css\" >\n",
       "</style>  \n",
       "<table id=\"T_945126e8_400c_11e9_97df_e0699588a9c4\" > \n",
       "<thead>    <tr> \n",
       "        <th class=\"blank level0\" ></th> \n",
       "        <th class=\"col_heading level0 col0\" >A</th> \n",
       "        <th class=\"col_heading level0 col1\" >B</th> \n",
       "        <th class=\"col_heading level0 col2\" >C</th> \n",
       "        <th class=\"col_heading level0 col3\" >D</th> \n",
       "        <th class=\"col_heading level0 col4\" >E</th> \n",
       "    </tr></thead> \n",
       "<tbody>    <tr> \n",
       "        <th id=\"T_945126e8_400c_11e9_97df_e0699588a9c4level0_row0\" class=\"row_heading level0 row0\" >0</th> \n",
       "        <td id=\"T_945126e8_400c_11e9_97df_e0699588a9c4row0_col0\" class=\"data row0 col0\" >100.00%</td> \n",
       "        <td id=\"T_945126e8_400c_11e9_97df_e0699588a9c4row0_col1\" class=\"data row0 col1\" >132.92%</td> \n",
       "        <td id=\"T_945126e8_400c_11e9_97df_e0699588a9c4row0_col2\" class=\"data row0 col2\" >nan%</td> \n",
       "        <td id=\"T_945126e8_400c_11e9_97df_e0699588a9c4row0_col3\" class=\"data row0 col3\" >-31.63%</td> \n",
       "        <td id=\"T_945126e8_400c_11e9_97df_e0699588a9c4row0_col4\" class=\"data row0 col4\" >-99.08%</td> \n",
       "    </tr>    <tr> \n",
       "        <th id=\"T_945126e8_400c_11e9_97df_e0699588a9c4level0_row1\" class=\"row_heading level0 row1\" >1</th> \n",
       "        <td id=\"T_945126e8_400c_11e9_97df_e0699588a9c4row1_col0\" class=\"data row1 col0\" >200.00%</td> \n",
       "        <td id=\"T_945126e8_400c_11e9_97df_e0699588a9c4row1_col1\" class=\"data row1 col1\" >-107.08%</td> \n",
       "        <td id=\"T_945126e8_400c_11e9_97df_e0699588a9c4row1_col2\" class=\"data row1 col2\" >-143.87%</td> \n",
       "        <td id=\"T_945126e8_400c_11e9_97df_e0699588a9c4row1_col3\" class=\"data row1 col3\" >56.44%</td> \n",
       "        <td id=\"T_945126e8_400c_11e9_97df_e0699588a9c4row1_col4\" class=\"data row1 col4\" >29.57%</td> \n",
       "    </tr>    <tr> \n",
       "        <th id=\"T_945126e8_400c_11e9_97df_e0699588a9c4level0_row2\" class=\"row_heading level0 row2\" >2</th> \n",
       "        <td id=\"T_945126e8_400c_11e9_97df_e0699588a9c4row2_col0\" class=\"data row2 col0\" >300.00%</td> \n",
       "        <td id=\"T_945126e8_400c_11e9_97df_e0699588a9c4row2_col1\" class=\"data row2 col1\" >-162.64%</td> \n",
       "        <td id=\"T_945126e8_400c_11e9_97df_e0699588a9c4row2_col2\" class=\"data row2 col2\" >21.96%</td> \n",
       "        <td id=\"T_945126e8_400c_11e9_97df_e0699588a9c4row2_col3\" class=\"data row2 col3\" >67.88%</td> \n",
       "        <td id=\"T_945126e8_400c_11e9_97df_e0699588a9c4row2_col4\" class=\"data row2 col4\" >188.93%</td> \n",
       "    </tr>    <tr> \n",
       "        <th id=\"T_945126e8_400c_11e9_97df_e0699588a9c4level0_row3\" class=\"row_heading level0 row3\" >3</th> \n",
       "        <td id=\"T_945126e8_400c_11e9_97df_e0699588a9c4row3_col0\" class=\"data row3 col0\" >400.00%</td> \n",
       "        <td id=\"T_945126e8_400c_11e9_97df_e0699588a9c4row3_col1\" class=\"data row3 col1\" >96.15%</td> \n",
       "        <td id=\"T_945126e8_400c_11e9_97df_e0699588a9c4row3_col2\" class=\"data row3 col2\" >10.40%</td> \n",
       "        <td id=\"T_945126e8_400c_11e9_97df_e0699588a9c4row3_col3\" class=\"data row3 col3\" >-48.12%</td> \n",
       "        <td id=\"T_945126e8_400c_11e9_97df_e0699588a9c4row3_col4\" class=\"data row3 col4\" >85.02%</td> \n",
       "    </tr>    <tr> \n",
       "        <th id=\"T_945126e8_400c_11e9_97df_e0699588a9c4level0_row4\" class=\"row_heading level0 row4\" >4</th> \n",
       "        <td id=\"T_945126e8_400c_11e9_97df_e0699588a9c4row4_col0\" class=\"data row4 col0\" >500.00%</td> \n",
       "        <td id=\"T_945126e8_400c_11e9_97df_e0699588a9c4row4_col1\" class=\"data row4 col1\" >145.34%</td> \n",
       "        <td id=\"T_945126e8_400c_11e9_97df_e0699588a9c4row4_col2\" class=\"data row4 col2\" >105.77%</td> \n",
       "        <td id=\"T_945126e8_400c_11e9_97df_e0699588a9c4row4_col3\" class=\"data row4 col3\" >16.56%</td> \n",
       "        <td id=\"T_945126e8_400c_11e9_97df_e0699588a9c4row4_col4\" class=\"data row4 col4\" >51.50%</td> \n",
       "    </tr>    <tr> \n",
       "        <th id=\"T_945126e8_400c_11e9_97df_e0699588a9c4level0_row5\" class=\"row_heading level0 row5\" >5</th> \n",
       "        <td id=\"T_945126e8_400c_11e9_97df_e0699588a9c4row5_col0\" class=\"data row5 col0\" >600.00%</td> \n",
       "        <td id=\"T_945126e8_400c_11e9_97df_e0699588a9c4row5_col1\" class=\"data row5 col1\" >-133.69%</td> \n",
       "        <td id=\"T_945126e8_400c_11e9_97df_e0699588a9c4row5_col2\" class=\"data row5 col2\" >56.29%</td> \n",
       "        <td id=\"T_945126e8_400c_11e9_97df_e0699588a9c4row5_col3\" class=\"data row5 col3\" >139.29%</td> \n",
       "        <td id=\"T_945126e8_400c_11e9_97df_e0699588a9c4row5_col4\" class=\"data row5 col4\" >-6.33%</td> \n",
       "    </tr>    <tr> \n",
       "        <th id=\"T_945126e8_400c_11e9_97df_e0699588a9c4level0_row6\" class=\"row_heading level0 row6\" >6</th> \n",
       "        <td id=\"T_945126e8_400c_11e9_97df_e0699588a9c4row6_col0\" class=\"data row6 col0\" >700.00%</td> \n",
       "        <td id=\"T_945126e8_400c_11e9_97df_e0699588a9c4row6_col1\" class=\"data row6 col1\" >12.17%</td> \n",
       "        <td id=\"T_945126e8_400c_11e9_97df_e0699588a9c4row6_col2\" class=\"data row6 col2\" >120.76%</td> \n",
       "        <td id=\"T_945126e8_400c_11e9_97df_e0699588a9c4row6_col3\" class=\"data row6 col3\" >-0.20%</td> \n",
       "        <td id=\"T_945126e8_400c_11e9_97df_e0699588a9c4row6_col4\" class=\"data row6 col4\" >162.78%</td> \n",
       "    </tr>    <tr> \n",
       "        <th id=\"T_945126e8_400c_11e9_97df_e0699588a9c4level0_row7\" class=\"row_heading level0 row7\" >7</th> \n",
       "        <td id=\"T_945126e8_400c_11e9_97df_e0699588a9c4row7_col0\" class=\"data row7 col0\" >800.00%</td> \n",
       "        <td id=\"T_945126e8_400c_11e9_97df_e0699588a9c4row7_col1\" class=\"data row7 col1\" >35.45%</td> \n",
       "        <td id=\"T_945126e8_400c_11e9_97df_e0699588a9c4row7_col2\" class=\"data row7 col2\" >103.75%</td> \n",
       "        <td id=\"T_945126e8_400c_11e9_97df_e0699588a9c4row7_col3\" class=\"data row7 col3\" >-38.57%</td> \n",
       "        <td id=\"T_945126e8_400c_11e9_97df_e0699588a9c4row7_col4\" class=\"data row7 col4\" >51.98%</td> \n",
       "    </tr>    <tr> \n",
       "        <th id=\"T_945126e8_400c_11e9_97df_e0699588a9c4level0_row8\" class=\"row_heading level0 row8\" >8</th> \n",
       "        <td id=\"T_945126e8_400c_11e9_97df_e0699588a9c4row8_col0\" class=\"data row8 col0\" >900.00%</td> \n",
       "        <td id=\"T_945126e8_400c_11e9_97df_e0699588a9c4row8_col1\" class=\"data row8 col1\" >168.66%</td> \n",
       "        <td id=\"T_945126e8_400c_11e9_97df_e0699588a9c4row8_col2\" class=\"data row8 col2\" >-132.60%</td> \n",
       "        <td id=\"T_945126e8_400c_11e9_97df_e0699588a9c4row8_col3\" class=\"data row8 col3\" >142.90%</td> \n",
       "        <td id=\"T_945126e8_400c_11e9_97df_e0699588a9c4row8_col4\" class=\"data row8 col4\" >-208.94%</td> \n",
       "    </tr>    <tr> \n",
       "        <th id=\"T_945126e8_400c_11e9_97df_e0699588a9c4level0_row9\" class=\"row_heading level0 row9\" >9</th> \n",
       "        <td id=\"T_945126e8_400c_11e9_97df_e0699588a9c4row9_col0\" class=\"data row9 col0\" >1000.00%</td> \n",
       "        <td id=\"T_945126e8_400c_11e9_97df_e0699588a9c4row9_col1\" class=\"data row9 col1\" >-12.98%</td> \n",
       "        <td id=\"T_945126e8_400c_11e9_97df_e0699588a9c4row9_col2\" class=\"data row9 col2\" >63.15%</td> \n",
       "        <td id=\"T_945126e8_400c_11e9_97df_e0699588a9c4row9_col3\" class=\"data row9 col3\" >-58.65%</td> \n",
       "        <td id=\"T_945126e8_400c_11e9_97df_e0699588a9c4row9_col4\" class=\"data row9 col4\" >29.07%</td> \n",
       "    </tr></tbody> \n",
       "</table> "
      ],
      "text/plain": [
       "<pandas.io.formats.style.Styler at 0x9583b38>"
      ]
     },
     "execution_count": 77,
     "metadata": {},
     "output_type": "execute_result"
    }
   ],
   "source": [
    "df.style.format(\"{:.2%}\")"
   ]
  },
  {
   "cell_type": "code",
   "execution_count": 81,
   "metadata": {},
   "outputs": [
    {
     "name": "stderr",
     "output_type": "stream",
     "text": [
      "C:\\Users\\hkc15\\AppData\\Local\\Continuum\\anaconda3\\lib\\site-packages\\matplotlib\\colors.py:512: RuntimeWarning: invalid value encountered in less\n",
      "  xa[xa < 0] = -1\n"
     ]
    },
    {
     "data": {
      "text/html": [
       "<style  type=\"text/css\" >\n",
       "    #T_94498514_400d_11e9_bebb_e0699588a9c4row0_col0 {\n",
       "            background-color:  #e5ffe5;\n",
       "        }    #T_94498514_400d_11e9_bebb_e0699588a9c4row0_col1 {\n",
       "            background-color:  #188d18;\n",
       "        }    #T_94498514_400d_11e9_bebb_e0699588a9c4row0_col2 {\n",
       "            background-color:  #e5ffe5;\n",
       "        }    #T_94498514_400d_11e9_bebb_e0699588a9c4row0_col3 {\n",
       "            background-color:  #c7eec7;\n",
       "        }    #T_94498514_400d_11e9_bebb_e0699588a9c4row0_col4 {\n",
       "            background-color:  #a6dca6;\n",
       "        }    #T_94498514_400d_11e9_bebb_e0699588a9c4row1_col0 {\n",
       "            background-color:  #ccf1cc;\n",
       "        }    #T_94498514_400d_11e9_bebb_e0699588a9c4row1_col1 {\n",
       "            background-color:  #c0eac0;\n",
       "        }    #T_94498514_400d_11e9_bebb_e0699588a9c4row1_col2 {\n",
       "            background-color:  #e5ffe5;\n",
       "        }    #T_94498514_400d_11e9_bebb_e0699588a9c4row1_col3 {\n",
       "            background-color:  #62b662;\n",
       "        }    #T_94498514_400d_11e9_bebb_e0699588a9c4row1_col4 {\n",
       "            background-color:  #5cb35c;\n",
       "        }    #T_94498514_400d_11e9_bebb_e0699588a9c4row2_col0 {\n",
       "            background-color:  #b3e3b3;\n",
       "        }    #T_94498514_400d_11e9_bebb_e0699588a9c4row2_col1 {\n",
       "            background-color:  #e5ffe5;\n",
       "        }    #T_94498514_400d_11e9_bebb_e0699588a9c4row2_col2 {\n",
       "            background-color:  #56af56;\n",
       "        }    #T_94498514_400d_11e9_bebb_e0699588a9c4row2_col3 {\n",
       "            background-color:  #56af56;\n",
       "        }    #T_94498514_400d_11e9_bebb_e0699588a9c4row2_col4 {\n",
       "            background-color:  #008000;\n",
       "        }    #T_94498514_400d_11e9_bebb_e0699588a9c4row3_col0 {\n",
       "            background-color:  #99d599;\n",
       "        }    #T_94498514_400d_11e9_bebb_e0699588a9c4row3_col1 {\n",
       "            background-color:  #329c32;\n",
       "        }    #T_94498514_400d_11e9_bebb_e0699588a9c4row3_col2 {\n",
       "            background-color:  #5fb55f;\n",
       "        }    #T_94498514_400d_11e9_bebb_e0699588a9c4row3_col3 {\n",
       "            background-color:  #daf9da;\n",
       "        }    #T_94498514_400d_11e9_bebb_e0699588a9c4row3_col4 {\n",
       "            background-color:  #3ba13b;\n",
       "        }    #T_94498514_400d_11e9_bebb_e0699588a9c4row4_col0 {\n",
       "            background-color:  #80c780;\n",
       "        }    #T_94498514_400d_11e9_bebb_e0699588a9c4row4_col1 {\n",
       "            background-color:  #108910;\n",
       "        }    #T_94498514_400d_11e9_bebb_e0699588a9c4row4_col2 {\n",
       "            background-color:  #0d870d;\n",
       "        }    #T_94498514_400d_11e9_bebb_e0699588a9c4row4_col3 {\n",
       "            background-color:  #90d090;\n",
       "        }    #T_94498514_400d_11e9_bebb_e0699588a9c4row4_col4 {\n",
       "            background-color:  #4fac4f;\n",
       "        }    #T_94498514_400d_11e9_bebb_e0699588a9c4row5_col0 {\n",
       "            background-color:  #66b866;\n",
       "        }    #T_94498514_400d_11e9_bebb_e0699588a9c4row5_col1 {\n",
       "            background-color:  #d2f4d2;\n",
       "        }    #T_94498514_400d_11e9_bebb_e0699588a9c4row5_col2 {\n",
       "            background-color:  #389f38;\n",
       "        }    #T_94498514_400d_11e9_bebb_e0699588a9c4row5_col3 {\n",
       "            background-color:  #048204;\n",
       "        }    #T_94498514_400d_11e9_bebb_e0699588a9c4row5_col4 {\n",
       "            background-color:  #70be70;\n",
       "        }    #T_94498514_400d_11e9_bebb_e0699588a9c4row6_col0 {\n",
       "            background-color:  #4daa4d;\n",
       "        }    #T_94498514_400d_11e9_bebb_e0699588a9c4row6_col1 {\n",
       "            background-color:  #6cbc6c;\n",
       "        }    #T_94498514_400d_11e9_bebb_e0699588a9c4row6_col2 {\n",
       "            background-color:  #008000;\n",
       "        }    #T_94498514_400d_11e9_bebb_e0699588a9c4row6_col3 {\n",
       "            background-color:  #a3daa3;\n",
       "        }    #T_94498514_400d_11e9_bebb_e0699588a9c4row6_col4 {\n",
       "            background-color:  #0e880e;\n",
       "        }    #T_94498514_400d_11e9_bebb_e0699588a9c4row7_col0 {\n",
       "            background-color:  #329c32;\n",
       "        }    #T_94498514_400d_11e9_bebb_e0699588a9c4row7_col1 {\n",
       "            background-color:  #5cb35c;\n",
       "        }    #T_94498514_400d_11e9_bebb_e0699588a9c4row7_col2 {\n",
       "            background-color:  #0e880e;\n",
       "        }    #T_94498514_400d_11e9_bebb_e0699588a9c4row7_col3 {\n",
       "            background-color:  #cff3cf;\n",
       "        }    #T_94498514_400d_11e9_bebb_e0699588a9c4row7_col4 {\n",
       "            background-color:  #4fac4f;\n",
       "        }    #T_94498514_400d_11e9_bebb_e0699588a9c4row8_col0 {\n",
       "            background-color:  #198e19;\n",
       "        }    #T_94498514_400d_11e9_bebb_e0699588a9c4row8_col1 {\n",
       "            background-color:  #008000;\n",
       "        }    #T_94498514_400d_11e9_bebb_e0699588a9c4row8_col2 {\n",
       "            background-color:  #dcfadc;\n",
       "        }    #T_94498514_400d_11e9_bebb_e0699588a9c4row8_col3 {\n",
       "            background-color:  #008000;\n",
       "        }    #T_94498514_400d_11e9_bebb_e0699588a9c4row8_col4 {\n",
       "            background-color:  #e5ffe5;\n",
       "        }    #T_94498514_400d_11e9_bebb_e0699588a9c4row9_col0 {\n",
       "            background-color:  #008000;\n",
       "        }    #T_94498514_400d_11e9_bebb_e0699588a9c4row9_col1 {\n",
       "            background-color:  #7ec67e;\n",
       "        }    #T_94498514_400d_11e9_bebb_e0699588a9c4row9_col2 {\n",
       "            background-color:  #319b31;\n",
       "        }    #T_94498514_400d_11e9_bebb_e0699588a9c4row9_col3 {\n",
       "            background-color:  #e5ffe5;\n",
       "        }    #T_94498514_400d_11e9_bebb_e0699588a9c4row9_col4 {\n",
       "            background-color:  #5cb35c;\n",
       "        }</style>  \n",
       "<table id=\"T_94498514_400d_11e9_bebb_e0699588a9c4\" > \n",
       "<thead>    <tr> \n",
       "        <th class=\"blank level0\" ></th> \n",
       "        <th class=\"col_heading level0 col0\" >A</th> \n",
       "        <th class=\"col_heading level0 col1\" >B</th> \n",
       "        <th class=\"col_heading level0 col2\" >C</th> \n",
       "        <th class=\"col_heading level0 col3\" >D</th> \n",
       "        <th class=\"col_heading level0 col4\" >E</th> \n",
       "    </tr></thead> \n",
       "<tbody>    <tr> \n",
       "        <th id=\"T_94498514_400d_11e9_bebb_e0699588a9c4level0_row0\" class=\"row_heading level0 row0\" >0</th> \n",
       "        <td id=\"T_94498514_400d_11e9_bebb_e0699588a9c4row0_col0\" class=\"data row0 col0\" >1</td> \n",
       "        <td id=\"T_94498514_400d_11e9_bebb_e0699588a9c4row0_col1\" class=\"data row0 col1\" >1.32921</td> \n",
       "        <td id=\"T_94498514_400d_11e9_bebb_e0699588a9c4row0_col2\" class=\"data row0 col2\" >nan</td> \n",
       "        <td id=\"T_94498514_400d_11e9_bebb_e0699588a9c4row0_col3\" class=\"data row0 col3\" >-0.31628</td> \n",
       "        <td id=\"T_94498514_400d_11e9_bebb_e0699588a9c4row0_col4\" class=\"data row0 col4\" >-0.99081</td> \n",
       "    </tr>    <tr> \n",
       "        <th id=\"T_94498514_400d_11e9_bebb_e0699588a9c4level0_row1\" class=\"row_heading level0 row1\" >1</th> \n",
       "        <td id=\"T_94498514_400d_11e9_bebb_e0699588a9c4row1_col0\" class=\"data row1 col0\" >2</td> \n",
       "        <td id=\"T_94498514_400d_11e9_bebb_e0699588a9c4row1_col1\" class=\"data row1 col1\" >-1.07082</td> \n",
       "        <td id=\"T_94498514_400d_11e9_bebb_e0699588a9c4row1_col2\" class=\"data row1 col2\" >-1.43871</td> \n",
       "        <td id=\"T_94498514_400d_11e9_bebb_e0699588a9c4row1_col3\" class=\"data row1 col3\" >0.564417</td> \n",
       "        <td id=\"T_94498514_400d_11e9_bebb_e0699588a9c4row1_col4\" class=\"data row1 col4\" >0.295722</td> \n",
       "    </tr>    <tr> \n",
       "        <th id=\"T_94498514_400d_11e9_bebb_e0699588a9c4level0_row2\" class=\"row_heading level0 row2\" >2</th> \n",
       "        <td id=\"T_94498514_400d_11e9_bebb_e0699588a9c4row2_col0\" class=\"data row2 col0\" >3</td> \n",
       "        <td id=\"T_94498514_400d_11e9_bebb_e0699588a9c4row2_col1\" class=\"data row2 col1\" >-1.6264</td> \n",
       "        <td id=\"T_94498514_400d_11e9_bebb_e0699588a9c4row2_col2\" class=\"data row2 col2\" >0.219565</td> \n",
       "        <td id=\"T_94498514_400d_11e9_bebb_e0699588a9c4row2_col3\" class=\"data row2 col3\" >0.678805</td> \n",
       "        <td id=\"T_94498514_400d_11e9_bebb_e0699588a9c4row2_col4\" class=\"data row2 col4\" >1.88927</td> \n",
       "    </tr>    <tr> \n",
       "        <th id=\"T_94498514_400d_11e9_bebb_e0699588a9c4level0_row3\" class=\"row_heading level0 row3\" >3</th> \n",
       "        <td id=\"T_94498514_400d_11e9_bebb_e0699588a9c4row3_col0\" class=\"data row3 col0\" >4</td> \n",
       "        <td id=\"T_94498514_400d_11e9_bebb_e0699588a9c4row3_col1\" class=\"data row3 col1\" >0.961538</td> \n",
       "        <td id=\"T_94498514_400d_11e9_bebb_e0699588a9c4row3_col2\" class=\"data row3 col2\" >0.104011</td> \n",
       "        <td id=\"T_94498514_400d_11e9_bebb_e0699588a9c4row3_col3\" class=\"data row3 col3\" >-0.481165</td> \n",
       "        <td id=\"T_94498514_400d_11e9_bebb_e0699588a9c4row3_col4\" class=\"data row3 col4\" >0.850229</td> \n",
       "    </tr>    <tr> \n",
       "        <th id=\"T_94498514_400d_11e9_bebb_e0699588a9c4level0_row4\" class=\"row_heading level0 row4\" >4</th> \n",
       "        <td id=\"T_94498514_400d_11e9_bebb_e0699588a9c4row4_col0\" class=\"data row4 col0\" >5</td> \n",
       "        <td id=\"T_94498514_400d_11e9_bebb_e0699588a9c4row4_col1\" class=\"data row4 col1\" >1.45342</td> \n",
       "        <td id=\"T_94498514_400d_11e9_bebb_e0699588a9c4row4_col2\" class=\"data row4 col2\" >1.05774</td> \n",
       "        <td id=\"T_94498514_400d_11e9_bebb_e0699588a9c4row4_col3\" class=\"data row4 col3\" >0.165562</td> \n",
       "        <td id=\"T_94498514_400d_11e9_bebb_e0699588a9c4row4_col4\" class=\"data row4 col4\" >0.515018</td> \n",
       "    </tr>    <tr> \n",
       "        <th id=\"T_94498514_400d_11e9_bebb_e0699588a9c4level0_row5\" class=\"row_heading level0 row5\" >5</th> \n",
       "        <td id=\"T_94498514_400d_11e9_bebb_e0699588a9c4row5_col0\" class=\"data row5 col0\" >6</td> \n",
       "        <td id=\"T_94498514_400d_11e9_bebb_e0699588a9c4row5_col1\" class=\"data row5 col1\" >-1.33694</td> \n",
       "        <td id=\"T_94498514_400d_11e9_bebb_e0699588a9c4row5_col2\" class=\"data row5 col2\" >0.562861</td> \n",
       "        <td id=\"T_94498514_400d_11e9_bebb_e0699588a9c4row5_col3\" class=\"data row5 col3\" >1.39285</td> \n",
       "        <td id=\"T_94498514_400d_11e9_bebb_e0699588a9c4row5_col4\" class=\"data row5 col4\" >-0.063328</td> \n",
       "    </tr>    <tr> \n",
       "        <th id=\"T_94498514_400d_11e9_bebb_e0699588a9c4level0_row6\" class=\"row_heading level0 row6\" >6</th> \n",
       "        <td id=\"T_94498514_400d_11e9_bebb_e0699588a9c4row6_col0\" class=\"data row6 col0\" >7</td> \n",
       "        <td id=\"T_94498514_400d_11e9_bebb_e0699588a9c4row6_col1\" class=\"data row6 col1\" >0.121668</td> \n",
       "        <td id=\"T_94498514_400d_11e9_bebb_e0699588a9c4row6_col2\" class=\"data row6 col2\" >1.2076</td> \n",
       "        <td id=\"T_94498514_400d_11e9_bebb_e0699588a9c4row6_col3\" class=\"data row6 col3\" >-0.00204021</td> \n",
       "        <td id=\"T_94498514_400d_11e9_bebb_e0699588a9c4row6_col4\" class=\"data row6 col4\" >1.6278</td> \n",
       "    </tr>    <tr> \n",
       "        <th id=\"T_94498514_400d_11e9_bebb_e0699588a9c4level0_row7\" class=\"row_heading level0 row7\" >7</th> \n",
       "        <td id=\"T_94498514_400d_11e9_bebb_e0699588a9c4row7_col0\" class=\"data row7 col0\" >8</td> \n",
       "        <td id=\"T_94498514_400d_11e9_bebb_e0699588a9c4row7_col1\" class=\"data row7 col1\" >0.354493</td> \n",
       "        <td id=\"T_94498514_400d_11e9_bebb_e0699588a9c4row7_col2\" class=\"data row7 col2\" >1.03753</td> \n",
       "        <td id=\"T_94498514_400d_11e9_bebb_e0699588a9c4row7_col3\" class=\"data row7 col3\" >-0.385684</td> \n",
       "        <td id=\"T_94498514_400d_11e9_bebb_e0699588a9c4row7_col4\" class=\"data row7 col4\" >0.519818</td> \n",
       "    </tr>    <tr> \n",
       "        <th id=\"T_94498514_400d_11e9_bebb_e0699588a9c4level0_row8\" class=\"row_heading level0 row8\" >8</th> \n",
       "        <td id=\"T_94498514_400d_11e9_bebb_e0699588a9c4row8_col0\" class=\"data row8 col0\" >9</td> \n",
       "        <td id=\"T_94498514_400d_11e9_bebb_e0699588a9c4row8_col1\" class=\"data row8 col1\" >1.68658</td> \n",
       "        <td id=\"T_94498514_400d_11e9_bebb_e0699588a9c4row8_col2\" class=\"data row8 col2\" >-1.32596</td> \n",
       "        <td id=\"T_94498514_400d_11e9_bebb_e0699588a9c4row8_col3\" class=\"data row8 col3\" >1.42898</td> \n",
       "        <td id=\"T_94498514_400d_11e9_bebb_e0699588a9c4row8_col4\" class=\"data row8 col4\" >-2.08935</td> \n",
       "    </tr>    <tr> \n",
       "        <th id=\"T_94498514_400d_11e9_bebb_e0699588a9c4level0_row9\" class=\"row_heading level0 row9\" >9</th> \n",
       "        <td id=\"T_94498514_400d_11e9_bebb_e0699588a9c4row9_col0\" class=\"data row9 col0\" >10</td> \n",
       "        <td id=\"T_94498514_400d_11e9_bebb_e0699588a9c4row9_col1\" class=\"data row9 col1\" >-0.12982</td> \n",
       "        <td id=\"T_94498514_400d_11e9_bebb_e0699588a9c4row9_col2\" class=\"data row9 col2\" >0.631523</td> \n",
       "        <td id=\"T_94498514_400d_11e9_bebb_e0699588a9c4row9_col3\" class=\"data row9 col3\" >-0.586538</td> \n",
       "        <td id=\"T_94498514_400d_11e9_bebb_e0699588a9c4row9_col4\" class=\"data row9 col4\" >0.29072</td> \n",
       "    </tr></tbody> \n",
       "</table> "
      ],
      "text/plain": [
       "<pandas.io.formats.style.Styler at 0x9cb96d8>"
      ]
     },
     "execution_count": 81,
     "metadata": {},
     "output_type": "execute_result"
    }
   ],
   "source": [
    "import seaborn as sns\n",
    "cm=sns.light_palette(\"green\", as_cmap=True)\n",
    "s= df.style.background_gradient(cmap=cm)\n",
    "s"
   ]
  },
  {
   "cell_type": "code",
   "execution_count": null,
   "metadata": {},
   "outputs": [],
   "source": []
  }
 ],
 "metadata": {
  "kernelspec": {
   "display_name": "Python 3",
   "language": "python",
   "name": "python3"
  },
  "language_info": {
   "codemirror_mode": {
    "name": "ipython",
    "version": 3
   },
   "file_extension": ".py",
   "mimetype": "text/x-python",
   "name": "python",
   "nbconvert_exporter": "python",
   "pygments_lexer": "ipython3",
   "version": "3.7.1"
  }
 },
 "nbformat": 4,
 "nbformat_minor": 2
}
