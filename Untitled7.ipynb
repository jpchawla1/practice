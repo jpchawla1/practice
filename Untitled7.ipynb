{
 "cells": [
  {
   "cell_type": "code",
   "execution_count": 1,
   "metadata": {},
   "outputs": [],
   "source": [
    "import csv"
   ]
  },
  {
   "cell_type": "code",
   "execution_count": 23,
   "metadata": {},
   "outputs": [
    {
     "name": "stdout",
     "output_type": "stream",
     "text": [
      "['Date,Item,Price']\n",
      "['1/1/2019,Apricots,580.00']\n",
      "['1/1/2019,Mango,481.40']\n",
      "['1/2/2019,Apricots,399.56']\n",
      "['1/3/2019,Mango,331.64']\n",
      "['1/4/2019,Apricots,275.26']\n",
      "['1/5/2019,Mango,228.46']\n",
      "['1/6/2019,Apricots,189.63']\n",
      "['1/7/2019,Mango,157.39']\n",
      "['1/8/2019,Apricots,130.63']\n",
      "['1/9/2019,Mango,108.43']\n",
      "['1/10/2019,Apricots,89.99']\n",
      "['1/11/2019,Mango,74.69']\n",
      "['1/12/2019,Apricots,62.00']\n",
      "['1/13/2019,Mango,51.46']\n",
      "['1/14/2019,Apricots,42.71']\n",
      "['1/15/2019,Mango,35.45']\n",
      "['1/16/2019,Apricots,29.42']\n",
      "['1/17/2019,Mango,24.42']\n",
      "['1/18/2019,Apricots,20.27']\n",
      "['1/19/2019,Mango,16.82']\n",
      "['1/20/2019,Apricots,13.96']\n",
      "['1/21/2019,Mango,11.59']\n",
      "['1/22/2019,Apricots,9.62']\n",
      "['1/23/2019,Mango,7.98']\n",
      "['1/24/2019,Apricots,6.63']\n",
      "['1/25/2019,Mango,5.50']\n",
      "['1/26/2019,Apricots,4.57']\n",
      "['1/27/2019,Mango,3.79']\n",
      "['1/28/2019,Apricots,3.14']\n",
      "['1/29/2019,Mango,2.61']\n"
     ]
    }
   ],
   "source": [
    "with open('dataset.csv') as f:\n",
    "    d= csv.reader(f, delimiter='&')\n",
    "    for r in d:\n",
    "        print(r)\n"
   ]
  },
  {
   "cell_type": "code",
   "execution_count": 11,
   "metadata": {},
   "outputs": [
    {
     "name": "stdout",
     "output_type": "stream",
     "text": [
      "Date,Item,Price\n",
      "\n",
      "1/1/2019,Apricots,580.00\n",
      "\n",
      "1/1/2019,Mango,481.40\n",
      "\n",
      "1/2/2019,Apricots,399.56\n",
      "\n",
      "1/3/2019,Mango,331.64\n",
      "\n",
      "1/4/2019,Apricots,275.26\n",
      "\n",
      "1/5/2019,Mango,228.46\n",
      "\n",
      "1/6/2019,Apricots,189.63\n",
      "\n",
      "1/7/2019,Mango,157.39\n",
      "\n",
      "1/8/2019,Apricots,130.63\n",
      "\n",
      "1/9/2019,Mango,108.43\n",
      "\n",
      "1/10/2019,Apricots,89.99\n",
      "\n",
      "1/11/2019,Mango,74.69\n",
      "\n",
      "1/12/2019,Apricots,62.00\n",
      "\n",
      "1/13/2019,Mango,51.46\n",
      "\n",
      "1/14/2019,Apricots,42.71\n",
      "\n",
      "1/15/2019,Mango,35.45\n",
      "\n",
      "1/16/2019,Apricots,29.42\n",
      "\n",
      "1/17/2019,Mango,24.42\n",
      "\n",
      "1/18/2019,Apricots,20.27\n",
      "\n",
      "1/19/2019,Mango,16.82\n",
      "\n",
      "1/20/2019,Apricots,13.96\n",
      "\n",
      "1/21/2019,Mango,11.59\n",
      "\n",
      "1/22/2019,Apricots,9.62\n",
      "\n",
      "1/23/2019,Mango,7.98\n",
      "\n",
      "1/24/2019,Apricots,6.63\n",
      "\n",
      "1/25/2019,Mango,5.50\n",
      "\n",
      "1/26/2019,Apricots,4.57\n",
      "\n",
      "1/27/2019,Mango,3.79\n",
      "\n",
      "1/28/2019,Apricots,3.14\n",
      "\n",
      "1/29/2019,Mango,2.61\n",
      "\n"
     ]
    }
   ],
   "source": [
    "with open('dataset.csv') as f:\n",
    "    for r in f.readlines():\n",
    "        print(r)"
   ]
  },
  {
   "cell_type": "code",
   "execution_count": null,
   "metadata": {},
   "outputs": [],
   "source": []
  }
 ],
 "metadata": {
  "kernelspec": {
   "display_name": "Python 3",
   "language": "python",
   "name": "python3"
  },
  "language_info": {
   "codemirror_mode": {
    "name": "ipython",
    "version": 3
   },
   "file_extension": ".py",
   "mimetype": "text/x-python",
   "name": "python",
   "nbconvert_exporter": "python",
   "pygments_lexer": "ipython3",
   "version": "3.7.1"
  }
 },
 "nbformat": 4,
 "nbformat_minor": 2
}
